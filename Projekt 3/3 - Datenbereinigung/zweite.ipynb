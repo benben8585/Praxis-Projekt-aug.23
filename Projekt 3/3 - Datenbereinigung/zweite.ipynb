{
 "cells": [
  {
   "cell_type": "code",
   "execution_count": 1,
   "id": "initial_id",
   "metadata": {
    "collapsed": true,
    "ExecuteTime": {
     "end_time": "2023-08-28T11:07:28.364319100Z",
     "start_time": "2023-08-28T11:07:26.342498600Z"
    }
   },
   "outputs": [],
   "source": [
    "import pandas as pd"
   ]
  },
  {
   "cell_type": "code",
   "execution_count": 2,
   "outputs": [
    {
     "data": {
      "text/plain": "     Produktionsdatum  Produkttyp  Produzierte Einheiten  Arbeitskosten  \\\n0          2021-09-18          10                     27            675   \n1          2020-05-01           3                    649          14927   \n2          2021-11-15           1                    230           5290   \n3          2021-08-04           7                    882          17640   \n4          2021-01-08           6                    205           3485   \n...               ...         ...                    ...            ...   \n2529       2021-08-08           5                    706           7060   \n2530       2022-08-14           7                    163           2934   \n2531       2022-10-03           6                    636          10812   \n2532       2022-11-11           5                    625           8125   \n2533       2022-09-30           8                     45            675   \n\n      Materialkosten  Sonstige Kosten    Fabrik  \n0                297              378  Fabrik 1  \n1                649             2596  Fabrik 1  \n2                230             1150  Fabrik 1  \n3                882             6174  Fabrik 1  \n4                410             1025  Fabrik 1  \n...              ...              ...       ...  \n2529            1412             2824  Fabrik 2  \n2530             163             1304  Fabrik 2  \n2531             636             4452  Fabrik 2  \n2532            1250             3750  Fabrik 2  \n2533            1035              495  Fabrik 2  \n\n[2534 rows x 7 columns]",
      "text/html": "<div>\n<style scoped>\n    .dataframe tbody tr th:only-of-type {\n        vertical-align: middle;\n    }\n\n    .dataframe tbody tr th {\n        vertical-align: top;\n    }\n\n    .dataframe thead th {\n        text-align: right;\n    }\n</style>\n<table border=\"1\" class=\"dataframe\">\n  <thead>\n    <tr style=\"text-align: right;\">\n      <th></th>\n      <th>Produktionsdatum</th>\n      <th>Produkttyp</th>\n      <th>Produzierte Einheiten</th>\n      <th>Arbeitskosten</th>\n      <th>Materialkosten</th>\n      <th>Sonstige Kosten</th>\n      <th>Fabrik</th>\n    </tr>\n  </thead>\n  <tbody>\n    <tr>\n      <th>0</th>\n      <td>2021-09-18</td>\n      <td>10</td>\n      <td>27</td>\n      <td>675</td>\n      <td>297</td>\n      <td>378</td>\n      <td>Fabrik 1</td>\n    </tr>\n    <tr>\n      <th>1</th>\n      <td>2020-05-01</td>\n      <td>3</td>\n      <td>649</td>\n      <td>14927</td>\n      <td>649</td>\n      <td>2596</td>\n      <td>Fabrik 1</td>\n    </tr>\n    <tr>\n      <th>2</th>\n      <td>2021-11-15</td>\n      <td>1</td>\n      <td>230</td>\n      <td>5290</td>\n      <td>230</td>\n      <td>1150</td>\n      <td>Fabrik 1</td>\n    </tr>\n    <tr>\n      <th>3</th>\n      <td>2021-08-04</td>\n      <td>7</td>\n      <td>882</td>\n      <td>17640</td>\n      <td>882</td>\n      <td>6174</td>\n      <td>Fabrik 1</td>\n    </tr>\n    <tr>\n      <th>4</th>\n      <td>2021-01-08</td>\n      <td>6</td>\n      <td>205</td>\n      <td>3485</td>\n      <td>410</td>\n      <td>1025</td>\n      <td>Fabrik 1</td>\n    </tr>\n    <tr>\n      <th>...</th>\n      <td>...</td>\n      <td>...</td>\n      <td>...</td>\n      <td>...</td>\n      <td>...</td>\n      <td>...</td>\n      <td>...</td>\n    </tr>\n    <tr>\n      <th>2529</th>\n      <td>2021-08-08</td>\n      <td>5</td>\n      <td>706</td>\n      <td>7060</td>\n      <td>1412</td>\n      <td>2824</td>\n      <td>Fabrik 2</td>\n    </tr>\n    <tr>\n      <th>2530</th>\n      <td>2022-08-14</td>\n      <td>7</td>\n      <td>163</td>\n      <td>2934</td>\n      <td>163</td>\n      <td>1304</td>\n      <td>Fabrik 2</td>\n    </tr>\n    <tr>\n      <th>2531</th>\n      <td>2022-10-03</td>\n      <td>6</td>\n      <td>636</td>\n      <td>10812</td>\n      <td>636</td>\n      <td>4452</td>\n      <td>Fabrik 2</td>\n    </tr>\n    <tr>\n      <th>2532</th>\n      <td>2022-11-11</td>\n      <td>5</td>\n      <td>625</td>\n      <td>8125</td>\n      <td>1250</td>\n      <td>3750</td>\n      <td>Fabrik 2</td>\n    </tr>\n    <tr>\n      <th>2533</th>\n      <td>2022-09-30</td>\n      <td>8</td>\n      <td>45</td>\n      <td>675</td>\n      <td>1035</td>\n      <td>495</td>\n      <td>Fabrik 2</td>\n    </tr>\n  </tbody>\n</table>\n<p>2534 rows × 7 columns</p>\n</div>"
     },
     "execution_count": 2,
     "metadata": {},
     "output_type": "execute_result"
    }
   ],
   "source": [
    "df_fabriken = pd.read_excel(\"fabrik_merge.xlsx\")\n",
    "del df_fabriken[\"Unnamed: 0\"]\n",
    "df_fabriken"
   ],
   "metadata": {
    "collapsed": false,
    "ExecuteTime": {
     "end_time": "2023-08-28T11:07:31.161465600Z",
     "start_time": "2023-08-28T11:07:28.333331900Z"
    }
   },
   "id": "8fd0bdc63e3da065"
  },
  {
   "cell_type": "code",
   "execution_count": 6,
   "outputs": [],
   "source": [
    "product_type_info = {\n",
    "    1: {\"name\": \"Wi-Fi Smelly Socks Detector\", \"profit_margin\": 0.69},\n",
    "    2: {\"name\": \"Bluetooth Banana Phone\", \"profit_margin\": 0.41},\n",
    "    3: {\"name\": \"Virtual Reality Nose Hair Trimmer\", \"profit_margin\": 0.51},\n",
    "    4: {\"name\": \"Robotic Pizza Butler\", \"profit_margin\": 0.46},\n",
    "    5: {\"name\": \"Selfie Toaster\", \"profit_margin\": 0.41},\n",
    "    6: {\"name\": \"Electric Toothbrush Karaoke Machine\", \"profit_margin\": 0.07},\n",
    "    7: {\"name\": \"Solar-Powered Rain Cloud\", \"profit_margin\": 0.88},\n",
    "    8: {\"name\": \"Quantum Potato Computer\", \"profit_margin\": 0.91},\n",
    "    9: {\"name\": \"BananaBox\", \"profit_margin\": 0.69},\n",
    "    10: {\"name\": \"CheeseStation\", \"profit_margin\": 0.97}\n",
    "}\n",
    "\n",
    "# Füge die Spalten \"Produkttyp Name\" und \"Zielgewinnspanne\" basierend auf dem Produkttyp hinzu\n",
    "df_fabriken[\"Produkttyp Name\"] = df_fabriken[\"Produkttyp\"].map(lambda x: product_type_info[x][\"name\"])\n",
    "df_fabriken[\"Zielgewinnspanne\"] = df_fabriken[\"Produkttyp\"].map(lambda x: product_type_info[x][\"profit_margin\"])"
   ],
   "metadata": {
    "collapsed": false,
    "ExecuteTime": {
     "end_time": "2023-08-28T08:56:38.249383600Z",
     "start_time": "2023-08-28T08:56:38.195174100Z"
    }
   },
   "id": "694699e8d9168739"
  },
  {
   "cell_type": "code",
   "execution_count": 7,
   "outputs": [
    {
     "data": {
      "text/plain": "     Produktionsdatum  Produkttyp  Produzierte Einheiten  Arbeitskosten  \\\n0          2021-09-18          10                     27            675   \n1          2020-05-01           3                    649          14927   \n2          2021-11-15           1                    230           5290   \n3          2021-08-04           7                    882          17640   \n4          2021-01-08           6                    205           3485   \n...               ...         ...                    ...            ...   \n2529       2021-08-08           5                    706           7060   \n2530       2022-08-14           7                    163           2934   \n2531       2022-10-03           6                    636          10812   \n2532       2022-11-11           5                    625           8125   \n2533       2022-09-30           8                     45            675   \n\n      Materialkosten  Sonstige Kosten    Fabrik  \\\n0                297              378  Fabrik 1   \n1                649             2596  Fabrik 1   \n2                230             1150  Fabrik 1   \n3                882             6174  Fabrik 1   \n4                410             1025  Fabrik 1   \n...              ...              ...       ...   \n2529            1412             2824  Fabrik 2   \n2530             163             1304  Fabrik 2   \n2531             636             4452  Fabrik 2   \n2532            1250             3750  Fabrik 2   \n2533            1035              495  Fabrik 2   \n\n                          Produkttyp Name  Zielgewinnspanne  \n0                           CheeseStation              0.97  \n1       Virtual Reality Nose Hair Trimmer              0.51  \n2             Wi-Fi Smelly Socks Detector              0.69  \n3                Solar-Powered Rain Cloud              0.88  \n4     Electric Toothbrush Karaoke Machine              0.07  \n...                                   ...               ...  \n2529                       Selfie Toaster              0.41  \n2530             Solar-Powered Rain Cloud              0.88  \n2531  Electric Toothbrush Karaoke Machine              0.07  \n2532                       Selfie Toaster              0.41  \n2533              Quantum Potato Computer              0.91  \n\n[2534 rows x 9 columns]",
      "text/html": "<div>\n<style scoped>\n    .dataframe tbody tr th:only-of-type {\n        vertical-align: middle;\n    }\n\n    .dataframe tbody tr th {\n        vertical-align: top;\n    }\n\n    .dataframe thead th {\n        text-align: right;\n    }\n</style>\n<table border=\"1\" class=\"dataframe\">\n  <thead>\n    <tr style=\"text-align: right;\">\n      <th></th>\n      <th>Produktionsdatum</th>\n      <th>Produkttyp</th>\n      <th>Produzierte Einheiten</th>\n      <th>Arbeitskosten</th>\n      <th>Materialkosten</th>\n      <th>Sonstige Kosten</th>\n      <th>Fabrik</th>\n      <th>Produkttyp Name</th>\n      <th>Zielgewinnspanne</th>\n    </tr>\n  </thead>\n  <tbody>\n    <tr>\n      <th>0</th>\n      <td>2021-09-18</td>\n      <td>10</td>\n      <td>27</td>\n      <td>675</td>\n      <td>297</td>\n      <td>378</td>\n      <td>Fabrik 1</td>\n      <td>CheeseStation</td>\n      <td>0.97</td>\n    </tr>\n    <tr>\n      <th>1</th>\n      <td>2020-05-01</td>\n      <td>3</td>\n      <td>649</td>\n      <td>14927</td>\n      <td>649</td>\n      <td>2596</td>\n      <td>Fabrik 1</td>\n      <td>Virtual Reality Nose Hair Trimmer</td>\n      <td>0.51</td>\n    </tr>\n    <tr>\n      <th>2</th>\n      <td>2021-11-15</td>\n      <td>1</td>\n      <td>230</td>\n      <td>5290</td>\n      <td>230</td>\n      <td>1150</td>\n      <td>Fabrik 1</td>\n      <td>Wi-Fi Smelly Socks Detector</td>\n      <td>0.69</td>\n    </tr>\n    <tr>\n      <th>3</th>\n      <td>2021-08-04</td>\n      <td>7</td>\n      <td>882</td>\n      <td>17640</td>\n      <td>882</td>\n      <td>6174</td>\n      <td>Fabrik 1</td>\n      <td>Solar-Powered Rain Cloud</td>\n      <td>0.88</td>\n    </tr>\n    <tr>\n      <th>4</th>\n      <td>2021-01-08</td>\n      <td>6</td>\n      <td>205</td>\n      <td>3485</td>\n      <td>410</td>\n      <td>1025</td>\n      <td>Fabrik 1</td>\n      <td>Electric Toothbrush Karaoke Machine</td>\n      <td>0.07</td>\n    </tr>\n    <tr>\n      <th>...</th>\n      <td>...</td>\n      <td>...</td>\n      <td>...</td>\n      <td>...</td>\n      <td>...</td>\n      <td>...</td>\n      <td>...</td>\n      <td>...</td>\n      <td>...</td>\n    </tr>\n    <tr>\n      <th>2529</th>\n      <td>2021-08-08</td>\n      <td>5</td>\n      <td>706</td>\n      <td>7060</td>\n      <td>1412</td>\n      <td>2824</td>\n      <td>Fabrik 2</td>\n      <td>Selfie Toaster</td>\n      <td>0.41</td>\n    </tr>\n    <tr>\n      <th>2530</th>\n      <td>2022-08-14</td>\n      <td>7</td>\n      <td>163</td>\n      <td>2934</td>\n      <td>163</td>\n      <td>1304</td>\n      <td>Fabrik 2</td>\n      <td>Solar-Powered Rain Cloud</td>\n      <td>0.88</td>\n    </tr>\n    <tr>\n      <th>2531</th>\n      <td>2022-10-03</td>\n      <td>6</td>\n      <td>636</td>\n      <td>10812</td>\n      <td>636</td>\n      <td>4452</td>\n      <td>Fabrik 2</td>\n      <td>Electric Toothbrush Karaoke Machine</td>\n      <td>0.07</td>\n    </tr>\n    <tr>\n      <th>2532</th>\n      <td>2022-11-11</td>\n      <td>5</td>\n      <td>625</td>\n      <td>8125</td>\n      <td>1250</td>\n      <td>3750</td>\n      <td>Fabrik 2</td>\n      <td>Selfie Toaster</td>\n      <td>0.41</td>\n    </tr>\n    <tr>\n      <th>2533</th>\n      <td>2022-09-30</td>\n      <td>8</td>\n      <td>45</td>\n      <td>675</td>\n      <td>1035</td>\n      <td>495</td>\n      <td>Fabrik 2</td>\n      <td>Quantum Potato Computer</td>\n      <td>0.91</td>\n    </tr>\n  </tbody>\n</table>\n<p>2534 rows × 9 columns</p>\n</div>"
     },
     "execution_count": 7,
     "metadata": {},
     "output_type": "execute_result"
    }
   ],
   "source": [
    "df_fabriken"
   ],
   "metadata": {
    "collapsed": false,
    "ExecuteTime": {
     "end_time": "2023-08-28T08:56:46.447873800Z",
     "start_time": "2023-08-28T08:56:46.413465Z"
    }
   },
   "id": "68608768ed55044c"
  },
  {
   "cell_type": "code",
   "execution_count": 8,
   "outputs": [],
   "source": [
    "df_fabriken.to_excel(\"fabriken+.xlsx\")"
   ],
   "metadata": {
    "collapsed": false,
    "ExecuteTime": {
     "end_time": "2023-08-28T09:00:09.297079400Z",
     "start_time": "2023-08-28T09:00:07.226836700Z"
    }
   },
   "id": "9337746364741a3d"
  },
  {
   "cell_type": "code",
   "execution_count": 19,
   "outputs": [
    {
     "data": {
      "text/plain": "    Produkttyp                      Produkttyp Name  Jahr  Zielgewinnspanne  \\\n0            1          Wi-Fi Smelly Socks Detector  2020              0.69   \n1            1          Wi-Fi Smelly Socks Detector  2021              0.69   \n2            1          Wi-Fi Smelly Socks Detector  2022              0.69   \n3            2               Bluetooth Banana Phone  2020              0.41   \n4            2               Bluetooth Banana Phone  2021              0.41   \n5            2               Bluetooth Banana Phone  2022              0.41   \n6            3    Virtual Reality Nose Hair Trimmer  2020              0.51   \n7            3    Virtual Reality Nose Hair Trimmer  2021              0.51   \n8            3    Virtual Reality Nose Hair Trimmer  2022              0.51   \n9            4                 Robotic Pizza Butler  2020              0.46   \n10           4                 Robotic Pizza Butler  2021              0.46   \n11           4                 Robotic Pizza Butler  2022              0.46   \n12           5                       Selfie Toaster  2020              0.41   \n13           5                       Selfie Toaster  2021              0.41   \n14           5                       Selfie Toaster  2022              0.41   \n15           6  Electric Toothbrush Karaoke Machine  2020              0.07   \n16           6  Electric Toothbrush Karaoke Machine  2021              0.07   \n17           6  Electric Toothbrush Karaoke Machine  2022              0.07   \n18           7             Solar-Powered Rain Cloud  2020              0.88   \n19           7             Solar-Powered Rain Cloud  2021              0.88   \n20           7             Solar-Powered Rain Cloud  2022              0.88   \n21           8              Quantum Potato Computer  2020              0.91   \n22           8              Quantum Potato Computer  2021              0.91   \n23           8              Quantum Potato Computer  2022              0.91   \n24           9                            BananaBox  2020              0.69   \n25           9                            BananaBox  2021              0.69   \n26           9                            BananaBox  2022              0.69   \n27          10                        CheeseStation  2020              0.97   \n28          10                        CheeseStation  2021              0.97   \n29          10                        CheeseStation  2022              0.97   \n\n    Produzierte Einheiten  Arbeitskosten  Materialkosten  Sonstige Kosten  \n0                   48156         781214           69643           282548  \n1                   48977         841211           74659           292844  \n2                   49425         820694           70987           298780  \n3                   40837         656874           63556           257193  \n4                   39943         648399           58813           247132  \n5                   39602         634435           61261           249844  \n6                   43940         725861           63626           269436  \n7                   49641         856957           72697           278200  \n8                   50762         860433           80000           294779  \n9                   36351         541722           53277           236238  \n10                  46370         708242           70348           297372  \n11                  56293         923339           82549           358554  \n12                  49174         812902           73799           302319  \n13                  49084         833197           75850           302257  \n14                  45104         740369           66261           253109  \n15                  43211         696609           66455           266362  \n16                  44054         757075           67153           268912  \n17                  40410         673129           65084           248496  \n18                  52565         898737           77267           297852  \n19                  43360         742189           68341           257117  \n20                  40035         654625           55958           262019  \n21                   4007          86465           66737            48433  \n22                   3795          94798           61704            47350  \n23                   4607         107474           77718            55867  \n24                   3897          89477           61804            47471  \n25                   4779         118456           80586            58597  \n26                   4987         119740           82550            61430  \n27                   3704          83713           57795            45251  \n28                   4264         100775           70383            53290  \n29                   4128          98616           66353            49201  ",
      "text/html": "<div>\n<style scoped>\n    .dataframe tbody tr th:only-of-type {\n        vertical-align: middle;\n    }\n\n    .dataframe tbody tr th {\n        vertical-align: top;\n    }\n\n    .dataframe thead th {\n        text-align: right;\n    }\n</style>\n<table border=\"1\" class=\"dataframe\">\n  <thead>\n    <tr style=\"text-align: right;\">\n      <th></th>\n      <th>Produkttyp</th>\n      <th>Produkttyp Name</th>\n      <th>Jahr</th>\n      <th>Zielgewinnspanne</th>\n      <th>Produzierte Einheiten</th>\n      <th>Arbeitskosten</th>\n      <th>Materialkosten</th>\n      <th>Sonstige Kosten</th>\n    </tr>\n  </thead>\n  <tbody>\n    <tr>\n      <th>0</th>\n      <td>1</td>\n      <td>Wi-Fi Smelly Socks Detector</td>\n      <td>2020</td>\n      <td>0.69</td>\n      <td>48156</td>\n      <td>781214</td>\n      <td>69643</td>\n      <td>282548</td>\n    </tr>\n    <tr>\n      <th>1</th>\n      <td>1</td>\n      <td>Wi-Fi Smelly Socks Detector</td>\n      <td>2021</td>\n      <td>0.69</td>\n      <td>48977</td>\n      <td>841211</td>\n      <td>74659</td>\n      <td>292844</td>\n    </tr>\n    <tr>\n      <th>2</th>\n      <td>1</td>\n      <td>Wi-Fi Smelly Socks Detector</td>\n      <td>2022</td>\n      <td>0.69</td>\n      <td>49425</td>\n      <td>820694</td>\n      <td>70987</td>\n      <td>298780</td>\n    </tr>\n    <tr>\n      <th>3</th>\n      <td>2</td>\n      <td>Bluetooth Banana Phone</td>\n      <td>2020</td>\n      <td>0.41</td>\n      <td>40837</td>\n      <td>656874</td>\n      <td>63556</td>\n      <td>257193</td>\n    </tr>\n    <tr>\n      <th>4</th>\n      <td>2</td>\n      <td>Bluetooth Banana Phone</td>\n      <td>2021</td>\n      <td>0.41</td>\n      <td>39943</td>\n      <td>648399</td>\n      <td>58813</td>\n      <td>247132</td>\n    </tr>\n    <tr>\n      <th>5</th>\n      <td>2</td>\n      <td>Bluetooth Banana Phone</td>\n      <td>2022</td>\n      <td>0.41</td>\n      <td>39602</td>\n      <td>634435</td>\n      <td>61261</td>\n      <td>249844</td>\n    </tr>\n    <tr>\n      <th>6</th>\n      <td>3</td>\n      <td>Virtual Reality Nose Hair Trimmer</td>\n      <td>2020</td>\n      <td>0.51</td>\n      <td>43940</td>\n      <td>725861</td>\n      <td>63626</td>\n      <td>269436</td>\n    </tr>\n    <tr>\n      <th>7</th>\n      <td>3</td>\n      <td>Virtual Reality Nose Hair Trimmer</td>\n      <td>2021</td>\n      <td>0.51</td>\n      <td>49641</td>\n      <td>856957</td>\n      <td>72697</td>\n      <td>278200</td>\n    </tr>\n    <tr>\n      <th>8</th>\n      <td>3</td>\n      <td>Virtual Reality Nose Hair Trimmer</td>\n      <td>2022</td>\n      <td>0.51</td>\n      <td>50762</td>\n      <td>860433</td>\n      <td>80000</td>\n      <td>294779</td>\n    </tr>\n    <tr>\n      <th>9</th>\n      <td>4</td>\n      <td>Robotic Pizza Butler</td>\n      <td>2020</td>\n      <td>0.46</td>\n      <td>36351</td>\n      <td>541722</td>\n      <td>53277</td>\n      <td>236238</td>\n    </tr>\n    <tr>\n      <th>10</th>\n      <td>4</td>\n      <td>Robotic Pizza Butler</td>\n      <td>2021</td>\n      <td>0.46</td>\n      <td>46370</td>\n      <td>708242</td>\n      <td>70348</td>\n      <td>297372</td>\n    </tr>\n    <tr>\n      <th>11</th>\n      <td>4</td>\n      <td>Robotic Pizza Butler</td>\n      <td>2022</td>\n      <td>0.46</td>\n      <td>56293</td>\n      <td>923339</td>\n      <td>82549</td>\n      <td>358554</td>\n    </tr>\n    <tr>\n      <th>12</th>\n      <td>5</td>\n      <td>Selfie Toaster</td>\n      <td>2020</td>\n      <td>0.41</td>\n      <td>49174</td>\n      <td>812902</td>\n      <td>73799</td>\n      <td>302319</td>\n    </tr>\n    <tr>\n      <th>13</th>\n      <td>5</td>\n      <td>Selfie Toaster</td>\n      <td>2021</td>\n      <td>0.41</td>\n      <td>49084</td>\n      <td>833197</td>\n      <td>75850</td>\n      <td>302257</td>\n    </tr>\n    <tr>\n      <th>14</th>\n      <td>5</td>\n      <td>Selfie Toaster</td>\n      <td>2022</td>\n      <td>0.41</td>\n      <td>45104</td>\n      <td>740369</td>\n      <td>66261</td>\n      <td>253109</td>\n    </tr>\n    <tr>\n      <th>15</th>\n      <td>6</td>\n      <td>Electric Toothbrush Karaoke Machine</td>\n      <td>2020</td>\n      <td>0.07</td>\n      <td>43211</td>\n      <td>696609</td>\n      <td>66455</td>\n      <td>266362</td>\n    </tr>\n    <tr>\n      <th>16</th>\n      <td>6</td>\n      <td>Electric Toothbrush Karaoke Machine</td>\n      <td>2021</td>\n      <td>0.07</td>\n      <td>44054</td>\n      <td>757075</td>\n      <td>67153</td>\n      <td>268912</td>\n    </tr>\n    <tr>\n      <th>17</th>\n      <td>6</td>\n      <td>Electric Toothbrush Karaoke Machine</td>\n      <td>2022</td>\n      <td>0.07</td>\n      <td>40410</td>\n      <td>673129</td>\n      <td>65084</td>\n      <td>248496</td>\n    </tr>\n    <tr>\n      <th>18</th>\n      <td>7</td>\n      <td>Solar-Powered Rain Cloud</td>\n      <td>2020</td>\n      <td>0.88</td>\n      <td>52565</td>\n      <td>898737</td>\n      <td>77267</td>\n      <td>297852</td>\n    </tr>\n    <tr>\n      <th>19</th>\n      <td>7</td>\n      <td>Solar-Powered Rain Cloud</td>\n      <td>2021</td>\n      <td>0.88</td>\n      <td>43360</td>\n      <td>742189</td>\n      <td>68341</td>\n      <td>257117</td>\n    </tr>\n    <tr>\n      <th>20</th>\n      <td>7</td>\n      <td>Solar-Powered Rain Cloud</td>\n      <td>2022</td>\n      <td>0.88</td>\n      <td>40035</td>\n      <td>654625</td>\n      <td>55958</td>\n      <td>262019</td>\n    </tr>\n    <tr>\n      <th>21</th>\n      <td>8</td>\n      <td>Quantum Potato Computer</td>\n      <td>2020</td>\n      <td>0.91</td>\n      <td>4007</td>\n      <td>86465</td>\n      <td>66737</td>\n      <td>48433</td>\n    </tr>\n    <tr>\n      <th>22</th>\n      <td>8</td>\n      <td>Quantum Potato Computer</td>\n      <td>2021</td>\n      <td>0.91</td>\n      <td>3795</td>\n      <td>94798</td>\n      <td>61704</td>\n      <td>47350</td>\n    </tr>\n    <tr>\n      <th>23</th>\n      <td>8</td>\n      <td>Quantum Potato Computer</td>\n      <td>2022</td>\n      <td>0.91</td>\n      <td>4607</td>\n      <td>107474</td>\n      <td>77718</td>\n      <td>55867</td>\n    </tr>\n    <tr>\n      <th>24</th>\n      <td>9</td>\n      <td>BananaBox</td>\n      <td>2020</td>\n      <td>0.69</td>\n      <td>3897</td>\n      <td>89477</td>\n      <td>61804</td>\n      <td>47471</td>\n    </tr>\n    <tr>\n      <th>25</th>\n      <td>9</td>\n      <td>BananaBox</td>\n      <td>2021</td>\n      <td>0.69</td>\n      <td>4779</td>\n      <td>118456</td>\n      <td>80586</td>\n      <td>58597</td>\n    </tr>\n    <tr>\n      <th>26</th>\n      <td>9</td>\n      <td>BananaBox</td>\n      <td>2022</td>\n      <td>0.69</td>\n      <td>4987</td>\n      <td>119740</td>\n      <td>82550</td>\n      <td>61430</td>\n    </tr>\n    <tr>\n      <th>27</th>\n      <td>10</td>\n      <td>CheeseStation</td>\n      <td>2020</td>\n      <td>0.97</td>\n      <td>3704</td>\n      <td>83713</td>\n      <td>57795</td>\n      <td>45251</td>\n    </tr>\n    <tr>\n      <th>28</th>\n      <td>10</td>\n      <td>CheeseStation</td>\n      <td>2021</td>\n      <td>0.97</td>\n      <td>4264</td>\n      <td>100775</td>\n      <td>70383</td>\n      <td>53290</td>\n    </tr>\n    <tr>\n      <th>29</th>\n      <td>10</td>\n      <td>CheeseStation</td>\n      <td>2022</td>\n      <td>0.97</td>\n      <td>4128</td>\n      <td>98616</td>\n      <td>66353</td>\n      <td>49201</td>\n    </tr>\n  </tbody>\n</table>\n</div>"
     },
     "execution_count": 19,
     "metadata": {},
     "output_type": "execute_result"
    }
   ],
   "source": [
    "# Konvertiere \"Produktionsdatum\" in ein DateTime-Format\n",
    "df_fabriken[\"Produktionsdatum\"] = pd.to_datetime(df_fabriken[\"Produktionsdatum\"])\n",
    "\n",
    "# Extrahiere Monat und Jahr aus dem \"Produktionsdatum\"\n",
    "df_fabriken[\"Jahr\"] = df_fabriken[\"Produktionsdatum\"].dt.strftime(\"%Y\")\n",
    "\n",
    "# Gruppiere nach Produkttyp und Monat/Jahr und summiere die Werte\n",
    "summary_df = df_fabriken.groupby([\"Produkttyp\", \"Produkttyp Name\", \"Jahr\", \"Zielgewinnspanne\"], as_index=False).agg({\n",
    "    \"Produzierte Einheiten\": \"sum\",\n",
    "    \"Arbeitskosten\": \"sum\",\n",
    "    \"Materialkosten\": \"sum\",\n",
    "    \"Sonstige Kosten\": \"sum\"\n",
    "})\n",
    "\n",
    "# Ausgabe der zusammengefassten Tabelle\n",
    "summary_df"
   ],
   "metadata": {
    "collapsed": false,
    "ExecuteTime": {
     "end_time": "2023-08-28T09:20:25.125359200Z",
     "start_time": "2023-08-28T09:20:24.946421100Z"
    }
   },
   "id": "9ffc8ff2a9060872"
  },
  {
   "cell_type": "code",
   "execution_count": 20,
   "outputs": [],
   "source": [
    "summary_df.to_excel(\"summary_jahr.xlsx\")"
   ],
   "metadata": {
    "collapsed": false,
    "ExecuteTime": {
     "end_time": "2023-08-28T09:21:02.147403400Z",
     "start_time": "2023-08-28T09:21:01.983212300Z"
    }
   },
   "id": "f222592ea9009f3"
  },
  {
   "cell_type": "code",
   "execution_count": 22,
   "outputs": [
    {
     "data": {
      "text/plain": "     Produkttyp              Produkttyp Name Monat  Zielgewinnspanne  \\\n0             1  Wi-Fi Smelly Socks Detector   Apr              0.69   \n1             1  Wi-Fi Smelly Socks Detector   Aug              0.69   \n2             1  Wi-Fi Smelly Socks Detector   Dec              0.69   \n3             1  Wi-Fi Smelly Socks Detector   Feb              0.69   \n4             1  Wi-Fi Smelly Socks Detector   Jan              0.69   \n..          ...                          ...   ...               ...   \n115          10                CheeseStation   Mar              0.97   \n116          10                CheeseStation   May              0.97   \n117          10                CheeseStation   Nov              0.97   \n118          10                CheeseStation   Oct              0.97   \n119          10                CheeseStation   Sep              0.97   \n\n     Produzierte Einheiten  Arbeitskosten  Materialkosten  Sonstige Kosten  \n0                    11092         196252           15691            64663  \n1                     9499         157591           15325            55697  \n2                    12647         214123           17499            75840  \n3                    11262         191541           17814            62426  \n4                    13211         226317           18295            82453  \n..                     ...            ...             ...              ...  \n115                   1058          21177           19675            12945  \n116                   1003          26071           14025            11656  \n117                   1043          26949           15119            13337  \n118                    564          14423            8250             6573  \n119                    953          21873           15417            11590  \n\n[120 rows x 8 columns]",
      "text/html": "<div>\n<style scoped>\n    .dataframe tbody tr th:only-of-type {\n        vertical-align: middle;\n    }\n\n    .dataframe tbody tr th {\n        vertical-align: top;\n    }\n\n    .dataframe thead th {\n        text-align: right;\n    }\n</style>\n<table border=\"1\" class=\"dataframe\">\n  <thead>\n    <tr style=\"text-align: right;\">\n      <th></th>\n      <th>Produkttyp</th>\n      <th>Produkttyp Name</th>\n      <th>Monat</th>\n      <th>Zielgewinnspanne</th>\n      <th>Produzierte Einheiten</th>\n      <th>Arbeitskosten</th>\n      <th>Materialkosten</th>\n      <th>Sonstige Kosten</th>\n    </tr>\n  </thead>\n  <tbody>\n    <tr>\n      <th>0</th>\n      <td>1</td>\n      <td>Wi-Fi Smelly Socks Detector</td>\n      <td>Apr</td>\n      <td>0.69</td>\n      <td>11092</td>\n      <td>196252</td>\n      <td>15691</td>\n      <td>64663</td>\n    </tr>\n    <tr>\n      <th>1</th>\n      <td>1</td>\n      <td>Wi-Fi Smelly Socks Detector</td>\n      <td>Aug</td>\n      <td>0.69</td>\n      <td>9499</td>\n      <td>157591</td>\n      <td>15325</td>\n      <td>55697</td>\n    </tr>\n    <tr>\n      <th>2</th>\n      <td>1</td>\n      <td>Wi-Fi Smelly Socks Detector</td>\n      <td>Dec</td>\n      <td>0.69</td>\n      <td>12647</td>\n      <td>214123</td>\n      <td>17499</td>\n      <td>75840</td>\n    </tr>\n    <tr>\n      <th>3</th>\n      <td>1</td>\n      <td>Wi-Fi Smelly Socks Detector</td>\n      <td>Feb</td>\n      <td>0.69</td>\n      <td>11262</td>\n      <td>191541</td>\n      <td>17814</td>\n      <td>62426</td>\n    </tr>\n    <tr>\n      <th>4</th>\n      <td>1</td>\n      <td>Wi-Fi Smelly Socks Detector</td>\n      <td>Jan</td>\n      <td>0.69</td>\n      <td>13211</td>\n      <td>226317</td>\n      <td>18295</td>\n      <td>82453</td>\n    </tr>\n    <tr>\n      <th>...</th>\n      <td>...</td>\n      <td>...</td>\n      <td>...</td>\n      <td>...</td>\n      <td>...</td>\n      <td>...</td>\n      <td>...</td>\n      <td>...</td>\n    </tr>\n    <tr>\n      <th>115</th>\n      <td>10</td>\n      <td>CheeseStation</td>\n      <td>Mar</td>\n      <td>0.97</td>\n      <td>1058</td>\n      <td>21177</td>\n      <td>19675</td>\n      <td>12945</td>\n    </tr>\n    <tr>\n      <th>116</th>\n      <td>10</td>\n      <td>CheeseStation</td>\n      <td>May</td>\n      <td>0.97</td>\n      <td>1003</td>\n      <td>26071</td>\n      <td>14025</td>\n      <td>11656</td>\n    </tr>\n    <tr>\n      <th>117</th>\n      <td>10</td>\n      <td>CheeseStation</td>\n      <td>Nov</td>\n      <td>0.97</td>\n      <td>1043</td>\n      <td>26949</td>\n      <td>15119</td>\n      <td>13337</td>\n    </tr>\n    <tr>\n      <th>118</th>\n      <td>10</td>\n      <td>CheeseStation</td>\n      <td>Oct</td>\n      <td>0.97</td>\n      <td>564</td>\n      <td>14423</td>\n      <td>8250</td>\n      <td>6573</td>\n    </tr>\n    <tr>\n      <th>119</th>\n      <td>10</td>\n      <td>CheeseStation</td>\n      <td>Sep</td>\n      <td>0.97</td>\n      <td>953</td>\n      <td>21873</td>\n      <td>15417</td>\n      <td>11590</td>\n    </tr>\n  </tbody>\n</table>\n<p>120 rows × 8 columns</p>\n</div>"
     },
     "execution_count": 22,
     "metadata": {},
     "output_type": "execute_result"
    }
   ],
   "source": [
    "# Konvertiere \"Produktionsdatum\" in ein DateTime-Format\n",
    "df_fabriken[\"Produktionsdatum\"] = pd.to_datetime(df_fabriken[\"Produktionsdatum\"])\n",
    "\n",
    "# Extrahiere Monat und Jahr aus dem \"Produktionsdatum\"\n",
    "df_fabriken[\"Monat\"] = df_fabriken[\"Produktionsdatum\"].dt.strftime(\"%b\")\n",
    "\n",
    "# Gruppiere nach Produkttyp und Monat/Jahr und summiere die Werte\n",
    "summary_df = df_fabriken.groupby([\"Produkttyp\", \"Produkttyp Name\", \"Monat\", \"Zielgewinnspanne\"], as_index=False).agg({\n",
    "    \"Produzierte Einheiten\": \"sum\",\n",
    "    \"Arbeitskosten\": \"sum\",\n",
    "    \"Materialkosten\": \"sum\",\n",
    "    \"Sonstige Kosten\": \"sum\"\n",
    "})\n",
    "\n",
    "# Ausgabe der zusammengefassten Tabelle\n",
    "summary_df"
   ],
   "metadata": {
    "collapsed": false,
    "ExecuteTime": {
     "end_time": "2023-08-28T09:21:27.420884800Z",
     "start_time": "2023-08-28T09:21:27.233742100Z"
    }
   },
   "id": "b30ab76f5afba5ef"
  },
  {
   "cell_type": "code",
   "execution_count": 23,
   "outputs": [],
   "source": [
    "summary_df.to_excel(\"summary_monat.xlsx\")"
   ],
   "metadata": {
    "collapsed": false,
    "ExecuteTime": {
     "end_time": "2023-08-28T09:22:06.641447900Z",
     "start_time": "2023-08-28T09:22:06.506137500Z"
    }
   },
   "id": "912a8b4fbb6bae67"
  },
  {
   "cell_type": "code",
   "execution_count": 24,
   "outputs": [
    {
     "data": {
      "text/plain": "   Produkttyp                      Produkttyp Name  Zielgewinnspanne  \\\n0           1          Wi-Fi Smelly Socks Detector              0.69   \n1           2               Bluetooth Banana Phone              0.41   \n2           3    Virtual Reality Nose Hair Trimmer              0.51   \n3           4                 Robotic Pizza Butler              0.46   \n4           5                       Selfie Toaster              0.41   \n5           6  Electric Toothbrush Karaoke Machine              0.07   \n6           7             Solar-Powered Rain Cloud              0.88   \n7           8              Quantum Potato Computer              0.91   \n8           9                            BananaBox              0.69   \n9          10                        CheeseStation              0.97   \n\n   Produzierte Einheiten  Arbeitskosten  Materialkosten  Sonstige Kosten  \n0                 146558        2443119          215289           874172  \n1                 120382        1939708          183630           754169  \n2                 144343        2443251          216323           842415  \n3                 139014        2173303          206174           892164  \n4                 143362        2386468          215910           857685  \n5                 127675        2126813          198692           783770  \n6                 135960        2295551          201566           816988  \n7                  12409         288737          206159           151650  \n8                  13663         327673          224940           167498  \n9                  12096         283104          194531           147742  ",
      "text/html": "<div>\n<style scoped>\n    .dataframe tbody tr th:only-of-type {\n        vertical-align: middle;\n    }\n\n    .dataframe tbody tr th {\n        vertical-align: top;\n    }\n\n    .dataframe thead th {\n        text-align: right;\n    }\n</style>\n<table border=\"1\" class=\"dataframe\">\n  <thead>\n    <tr style=\"text-align: right;\">\n      <th></th>\n      <th>Produkttyp</th>\n      <th>Produkttyp Name</th>\n      <th>Zielgewinnspanne</th>\n      <th>Produzierte Einheiten</th>\n      <th>Arbeitskosten</th>\n      <th>Materialkosten</th>\n      <th>Sonstige Kosten</th>\n    </tr>\n  </thead>\n  <tbody>\n    <tr>\n      <th>0</th>\n      <td>1</td>\n      <td>Wi-Fi Smelly Socks Detector</td>\n      <td>0.69</td>\n      <td>146558</td>\n      <td>2443119</td>\n      <td>215289</td>\n      <td>874172</td>\n    </tr>\n    <tr>\n      <th>1</th>\n      <td>2</td>\n      <td>Bluetooth Banana Phone</td>\n      <td>0.41</td>\n      <td>120382</td>\n      <td>1939708</td>\n      <td>183630</td>\n      <td>754169</td>\n    </tr>\n    <tr>\n      <th>2</th>\n      <td>3</td>\n      <td>Virtual Reality Nose Hair Trimmer</td>\n      <td>0.51</td>\n      <td>144343</td>\n      <td>2443251</td>\n      <td>216323</td>\n      <td>842415</td>\n    </tr>\n    <tr>\n      <th>3</th>\n      <td>4</td>\n      <td>Robotic Pizza Butler</td>\n      <td>0.46</td>\n      <td>139014</td>\n      <td>2173303</td>\n      <td>206174</td>\n      <td>892164</td>\n    </tr>\n    <tr>\n      <th>4</th>\n      <td>5</td>\n      <td>Selfie Toaster</td>\n      <td>0.41</td>\n      <td>143362</td>\n      <td>2386468</td>\n      <td>215910</td>\n      <td>857685</td>\n    </tr>\n    <tr>\n      <th>5</th>\n      <td>6</td>\n      <td>Electric Toothbrush Karaoke Machine</td>\n      <td>0.07</td>\n      <td>127675</td>\n      <td>2126813</td>\n      <td>198692</td>\n      <td>783770</td>\n    </tr>\n    <tr>\n      <th>6</th>\n      <td>7</td>\n      <td>Solar-Powered Rain Cloud</td>\n      <td>0.88</td>\n      <td>135960</td>\n      <td>2295551</td>\n      <td>201566</td>\n      <td>816988</td>\n    </tr>\n    <tr>\n      <th>7</th>\n      <td>8</td>\n      <td>Quantum Potato Computer</td>\n      <td>0.91</td>\n      <td>12409</td>\n      <td>288737</td>\n      <td>206159</td>\n      <td>151650</td>\n    </tr>\n    <tr>\n      <th>8</th>\n      <td>9</td>\n      <td>BananaBox</td>\n      <td>0.69</td>\n      <td>13663</td>\n      <td>327673</td>\n      <td>224940</td>\n      <td>167498</td>\n    </tr>\n    <tr>\n      <th>9</th>\n      <td>10</td>\n      <td>CheeseStation</td>\n      <td>0.97</td>\n      <td>12096</td>\n      <td>283104</td>\n      <td>194531</td>\n      <td>147742</td>\n    </tr>\n  </tbody>\n</table>\n</div>"
     },
     "execution_count": 24,
     "metadata": {},
     "output_type": "execute_result"
    }
   ],
   "source": [
    "# Konvertiere \"Produktionsdatum\" in ein DateTime-Format\n",
    "df_fabriken[\"Produktionsdatum\"] = pd.to_datetime(df_fabriken[\"Produktionsdatum\"])\n",
    "\n",
    "# Extrahiere Monat und Jahr aus dem \"Produktionsdatum\"\n",
    "df_fabriken[\"Monat/Jahr\"] = df_fabriken[\"Produktionsdatum\"].dt.strftime(\"%b %Y\")\n",
    "\n",
    "# Gruppiere nach Produkttyp und Monat/Jahr und summiere die Werte\n",
    "summary_df = df_fabriken.groupby([\"Produkttyp\", \"Produkttyp Name\", \"Zielgewinnspanne\"], as_index=False).agg({\n",
    "    \"Produzierte Einheiten\": \"sum\",\n",
    "    \"Arbeitskosten\": \"sum\",\n",
    "    \"Materialkosten\": \"sum\",\n",
    "    \"Sonstige Kosten\": \"sum\"\n",
    "})\n",
    "\n",
    "# Ausgabe der zusammengefassten Tabelle\n",
    "summary_df"
   ],
   "metadata": {
    "collapsed": false,
    "ExecuteTime": {
     "end_time": "2023-08-28T09:22:47.357624Z",
     "start_time": "2023-08-28T09:22:47.187424700Z"
    }
   },
   "id": "dff268caa4c51c1"
  },
  {
   "cell_type": "code",
   "execution_count": 25,
   "outputs": [],
   "source": [
    "summary_df.to_excel(\"summary_typen.xlsx\")"
   ],
   "metadata": {
    "collapsed": false,
    "ExecuteTime": {
     "end_time": "2023-08-28T09:23:19.364935300Z",
     "start_time": "2023-08-28T09:23:19.174001200Z"
    }
   },
   "id": "5843082e405460f1"
  },
  {
   "cell_type": "code",
   "execution_count": 42,
   "outputs": [
    {
     "data": {
      "text/plain": "     Produkttyp              Produkttyp Name Monat/Jahr  Zielgewinnspanne  \\\n0             1  Wi-Fi Smelly Socks Detector   Apr 2020              0.69   \n1             1  Wi-Fi Smelly Socks Detector   Apr 2021              0.69   \n2             1  Wi-Fi Smelly Socks Detector   Apr 2022              0.69   \n3             1  Wi-Fi Smelly Socks Detector   Aug 2020              0.69   \n4             1  Wi-Fi Smelly Socks Detector   Aug 2021              0.69   \n..          ...                          ...        ...               ...   \n355          10                CheeseStation   Oct 2021              0.97   \n356          10                CheeseStation   Oct 2022              0.97   \n357          10                CheeseStation   Sep 2020              0.97   \n358          10                CheeseStation   Sep 2021              0.97   \n359          10                CheeseStation   Sep 2022              0.97   \n\n     Produzierte Einheiten  Arbeitskosten  Materialkosten  Sonstige Kosten  \n0                     5420         108424            6906            26678  \n1                     1816          25051            3374            14614  \n2                     3856          62777            5411            23371  \n3                     3003          52436            3824            19607  \n4                     3255          53686            5784            22730  \n..                     ...            ...             ...              ...  \n355                    238           6317            3370             2801  \n356                    251           6906            3455             2722  \n357                    372           8606            5913             4190  \n358                    427           9835            6996             5420  \n359                    154           3432            2508             1980  \n\n[360 rows x 8 columns]",
      "text/html": "<div>\n<style scoped>\n    .dataframe tbody tr th:only-of-type {\n        vertical-align: middle;\n    }\n\n    .dataframe tbody tr th {\n        vertical-align: top;\n    }\n\n    .dataframe thead th {\n        text-align: right;\n    }\n</style>\n<table border=\"1\" class=\"dataframe\">\n  <thead>\n    <tr style=\"text-align: right;\">\n      <th></th>\n      <th>Produkttyp</th>\n      <th>Produkttyp Name</th>\n      <th>Monat/Jahr</th>\n      <th>Zielgewinnspanne</th>\n      <th>Produzierte Einheiten</th>\n      <th>Arbeitskosten</th>\n      <th>Materialkosten</th>\n      <th>Sonstige Kosten</th>\n    </tr>\n  </thead>\n  <tbody>\n    <tr>\n      <th>0</th>\n      <td>1</td>\n      <td>Wi-Fi Smelly Socks Detector</td>\n      <td>Apr 2020</td>\n      <td>0.69</td>\n      <td>5420</td>\n      <td>108424</td>\n      <td>6906</td>\n      <td>26678</td>\n    </tr>\n    <tr>\n      <th>1</th>\n      <td>1</td>\n      <td>Wi-Fi Smelly Socks Detector</td>\n      <td>Apr 2021</td>\n      <td>0.69</td>\n      <td>1816</td>\n      <td>25051</td>\n      <td>3374</td>\n      <td>14614</td>\n    </tr>\n    <tr>\n      <th>2</th>\n      <td>1</td>\n      <td>Wi-Fi Smelly Socks Detector</td>\n      <td>Apr 2022</td>\n      <td>0.69</td>\n      <td>3856</td>\n      <td>62777</td>\n      <td>5411</td>\n      <td>23371</td>\n    </tr>\n    <tr>\n      <th>3</th>\n      <td>1</td>\n      <td>Wi-Fi Smelly Socks Detector</td>\n      <td>Aug 2020</td>\n      <td>0.69</td>\n      <td>3003</td>\n      <td>52436</td>\n      <td>3824</td>\n      <td>19607</td>\n    </tr>\n    <tr>\n      <th>4</th>\n      <td>1</td>\n      <td>Wi-Fi Smelly Socks Detector</td>\n      <td>Aug 2021</td>\n      <td>0.69</td>\n      <td>3255</td>\n      <td>53686</td>\n      <td>5784</td>\n      <td>22730</td>\n    </tr>\n    <tr>\n      <th>...</th>\n      <td>...</td>\n      <td>...</td>\n      <td>...</td>\n      <td>...</td>\n      <td>...</td>\n      <td>...</td>\n      <td>...</td>\n      <td>...</td>\n    </tr>\n    <tr>\n      <th>355</th>\n      <td>10</td>\n      <td>CheeseStation</td>\n      <td>Oct 2021</td>\n      <td>0.97</td>\n      <td>238</td>\n      <td>6317</td>\n      <td>3370</td>\n      <td>2801</td>\n    </tr>\n    <tr>\n      <th>356</th>\n      <td>10</td>\n      <td>CheeseStation</td>\n      <td>Oct 2022</td>\n      <td>0.97</td>\n      <td>251</td>\n      <td>6906</td>\n      <td>3455</td>\n      <td>2722</td>\n    </tr>\n    <tr>\n      <th>357</th>\n      <td>10</td>\n      <td>CheeseStation</td>\n      <td>Sep 2020</td>\n      <td>0.97</td>\n      <td>372</td>\n      <td>8606</td>\n      <td>5913</td>\n      <td>4190</td>\n    </tr>\n    <tr>\n      <th>358</th>\n      <td>10</td>\n      <td>CheeseStation</td>\n      <td>Sep 2021</td>\n      <td>0.97</td>\n      <td>427</td>\n      <td>9835</td>\n      <td>6996</td>\n      <td>5420</td>\n    </tr>\n    <tr>\n      <th>359</th>\n      <td>10</td>\n      <td>CheeseStation</td>\n      <td>Sep 2022</td>\n      <td>0.97</td>\n      <td>154</td>\n      <td>3432</td>\n      <td>2508</td>\n      <td>1980</td>\n    </tr>\n  </tbody>\n</table>\n<p>360 rows × 8 columns</p>\n</div>"
     },
     "execution_count": 42,
     "metadata": {},
     "output_type": "execute_result"
    }
   ],
   "source": [
    "# Konvertiere \"Produktionsdatum\" in ein DateTime-Format\n",
    "df_fabriken[\"Produktionsdatum\"] = pd.to_datetime(df_fabriken[\"Produktionsdatum\"])\n",
    "\n",
    "# Extrahiere Monat und Jahr aus dem \"Produktionsdatum\"\n",
    "df_fabriken[\"Monat/Jahr\"] = df_fabriken[\"Produktionsdatum\"].dt.strftime(\"%b %Y\")\n",
    "\n",
    "# Gruppiere nach Produkttyp und Monat/Jahr und summiere die Werte\n",
    "summary_df = df_fabriken.groupby([\"Produkttyp\", \"Produkttyp Name\", \"Monat/Jahr\", \"Zielgewinnspanne\"], as_index=False).agg({\n",
    "    \"Produzierte Einheiten\": \"sum\",\n",
    "    \"Arbeitskosten\": \"sum\",\n",
    "    \"Materialkosten\": \"sum\",\n",
    "    \"Sonstige Kosten\": \"sum\"\n",
    "})\n",
    "\n",
    "# Ausgabe der zusammengefassten Tabelle\n",
    "summary_df"
   ],
   "metadata": {
    "collapsed": false,
    "ExecuteTime": {
     "end_time": "2023-08-28T09:46:31.233433100Z",
     "start_time": "2023-08-28T09:46:31.047887400Z"
    }
   },
   "id": "e61aaa6d23751601"
  },
  {
   "cell_type": "code",
   "execution_count": 15,
   "outputs": [],
   "source": [
    "summary_df.to_excel(\"summary.xlsx\")"
   ],
   "metadata": {
    "collapsed": false,
    "ExecuteTime": {
     "end_time": "2023-08-28T09:13:49.912415700Z",
     "start_time": "2023-08-28T09:13:49.498909900Z"
    }
   },
   "id": "d98f42a52f5a124d"
  },
  {
   "cell_type": "code",
   "execution_count": 28,
   "outputs": [
    {
     "data": {
      "text/plain": "   Produkttyp                      Produkttyp Name  Zielgewinnspanne  \\\n0           1          Wi-Fi Smelly Socks Detector              0.69   \n1           2               Bluetooth Banana Phone              0.41   \n2           3    Virtual Reality Nose Hair Trimmer              0.51   \n3           4                 Robotic Pizza Butler              0.46   \n4           5                       Selfie Toaster              0.41   \n5           6  Electric Toothbrush Karaoke Machine              0.07   \n6           7             Solar-Powered Rain Cloud              0.88   \n7           8              Quantum Potato Computer              0.91   \n8           9                            BananaBox              0.69   \n9          10                        CheeseStation              0.97   \n\n   Produzierte Einheiten  Arbeitskosten  Materialkosten  Sonstige Kosten  \\\n0                 146558        2443119          215289           874172   \n1                 120382        1939708          183630           754169   \n2                 144343        2443251          216323           842415   \n3                 139014        2173303          206174           892164   \n4                 143362        2386468          215910           857685   \n5                 127675        2126813          198692           783770   \n6                 135960        2295551          201566           816988   \n7                  12409         288737          206159           151650   \n8                  13663         327673          224940           167498   \n9                  12096         283104          194531           147742   \n\n   Gesamtkosten  \n0       3532580  \n1       2877507  \n2       3501989  \n3       3271641  \n4       3460063  \n5       3109275  \n6       3314105  \n7        646546  \n8        720111  \n9        625377  ",
      "text/html": "<div>\n<style scoped>\n    .dataframe tbody tr th:only-of-type {\n        vertical-align: middle;\n    }\n\n    .dataframe tbody tr th {\n        vertical-align: top;\n    }\n\n    .dataframe thead th {\n        text-align: right;\n    }\n</style>\n<table border=\"1\" class=\"dataframe\">\n  <thead>\n    <tr style=\"text-align: right;\">\n      <th></th>\n      <th>Produkttyp</th>\n      <th>Produkttyp Name</th>\n      <th>Zielgewinnspanne</th>\n      <th>Produzierte Einheiten</th>\n      <th>Arbeitskosten</th>\n      <th>Materialkosten</th>\n      <th>Sonstige Kosten</th>\n      <th>Gesamtkosten</th>\n    </tr>\n  </thead>\n  <tbody>\n    <tr>\n      <th>0</th>\n      <td>1</td>\n      <td>Wi-Fi Smelly Socks Detector</td>\n      <td>0.69</td>\n      <td>146558</td>\n      <td>2443119</td>\n      <td>215289</td>\n      <td>874172</td>\n      <td>3532580</td>\n    </tr>\n    <tr>\n      <th>1</th>\n      <td>2</td>\n      <td>Bluetooth Banana Phone</td>\n      <td>0.41</td>\n      <td>120382</td>\n      <td>1939708</td>\n      <td>183630</td>\n      <td>754169</td>\n      <td>2877507</td>\n    </tr>\n    <tr>\n      <th>2</th>\n      <td>3</td>\n      <td>Virtual Reality Nose Hair Trimmer</td>\n      <td>0.51</td>\n      <td>144343</td>\n      <td>2443251</td>\n      <td>216323</td>\n      <td>842415</td>\n      <td>3501989</td>\n    </tr>\n    <tr>\n      <th>3</th>\n      <td>4</td>\n      <td>Robotic Pizza Butler</td>\n      <td>0.46</td>\n      <td>139014</td>\n      <td>2173303</td>\n      <td>206174</td>\n      <td>892164</td>\n      <td>3271641</td>\n    </tr>\n    <tr>\n      <th>4</th>\n      <td>5</td>\n      <td>Selfie Toaster</td>\n      <td>0.41</td>\n      <td>143362</td>\n      <td>2386468</td>\n      <td>215910</td>\n      <td>857685</td>\n      <td>3460063</td>\n    </tr>\n    <tr>\n      <th>5</th>\n      <td>6</td>\n      <td>Electric Toothbrush Karaoke Machine</td>\n      <td>0.07</td>\n      <td>127675</td>\n      <td>2126813</td>\n      <td>198692</td>\n      <td>783770</td>\n      <td>3109275</td>\n    </tr>\n    <tr>\n      <th>6</th>\n      <td>7</td>\n      <td>Solar-Powered Rain Cloud</td>\n      <td>0.88</td>\n      <td>135960</td>\n      <td>2295551</td>\n      <td>201566</td>\n      <td>816988</td>\n      <td>3314105</td>\n    </tr>\n    <tr>\n      <th>7</th>\n      <td>8</td>\n      <td>Quantum Potato Computer</td>\n      <td>0.91</td>\n      <td>12409</td>\n      <td>288737</td>\n      <td>206159</td>\n      <td>151650</td>\n      <td>646546</td>\n    </tr>\n    <tr>\n      <th>8</th>\n      <td>9</td>\n      <td>BananaBox</td>\n      <td>0.69</td>\n      <td>13663</td>\n      <td>327673</td>\n      <td>224940</td>\n      <td>167498</td>\n      <td>720111</td>\n    </tr>\n    <tr>\n      <th>9</th>\n      <td>10</td>\n      <td>CheeseStation</td>\n      <td>0.97</td>\n      <td>12096</td>\n      <td>283104</td>\n      <td>194531</td>\n      <td>147742</td>\n      <td>625377</td>\n    </tr>\n  </tbody>\n</table>\n</div>"
     },
     "execution_count": 28,
     "metadata": {},
     "output_type": "execute_result"
    }
   ],
   "source": [
    "summary_df[\"Gesamtkosten\"] = summary_df[\"Arbeitskosten\"] + summary_df[\"Materialkosten\"] + summary_df[\"Sonstige Kosten\"]\n",
    "summary_df"
   ],
   "metadata": {
    "collapsed": false,
    "ExecuteTime": {
     "end_time": "2023-08-28T09:31:30.184296400Z",
     "start_time": "2023-08-28T09:31:30.058334700Z"
    }
   },
   "id": "dcc5090e31848b66"
  },
  {
   "cell_type": "code",
   "execution_count": 51,
   "outputs": [
    {
     "data": {
      "text/plain": "   Produkttyp                      Produkttyp Name  Zielgewinnspanne  \\\n0           1          Wi-Fi Smelly Socks Detector              0.69   \n1           2               Bluetooth Banana Phone              0.41   \n2           3    Virtual Reality Nose Hair Trimmer              0.51   \n3           4                 Robotic Pizza Butler              0.46   \n4           5                       Selfie Toaster              0.41   \n5           6  Electric Toothbrush Karaoke Machine              0.07   \n6           7             Solar-Powered Rain Cloud              0.88   \n7           8              Quantum Potato Computer              0.91   \n8           9                            BananaBox              0.69   \n9          10                        CheeseStation              0.97   \n\n   Produzierte Einheiten  Arbeitskosten  Materialkosten  Sonstige Kosten  \\\n0                 146558        2443119          215289           874172   \n1                 120382        1939708          183630           754169   \n2                 144343        2443251          216323           842415   \n3                 139014        2173303          206174           892164   \n4                 143362        2386468          215910           857685   \n5                 127675        2126813          198692           783770   \n6                 135960        2295551          201566           816988   \n7                  12409         288737          206159           151650   \n8                  13663         327673          224940           167498   \n9                  12096         283104          194531           147742   \n\n   Gesamtkosten  Durchschnittliche Kosten pro Einheit  \\\n0       3532580                                 24.10   \n1       2877507                                 23.90   \n2       3501989                                 24.26   \n3       3271641                                 23.53   \n4       3460063                                 24.14   \n5       3109275                                 24.35   \n6       3314105                                 24.38   \n7        646546                                 52.10   \n8        720111                                 52.71   \n9        625377                                 51.70   \n\n   Erforderlicher Verkaufspreis  Bruttogewinnspanne  \\\n0                   11395419.35               100.0   \n1                    4877130.51               100.0   \n2                    7146916.33               100.0   \n3                    6058594.44               100.0   \n4                    5864513.56               100.0   \n5                    3343306.45               100.0   \n6                   27617541.67               100.0   \n7                    7183844.44               100.0   \n8                    2322938.71               100.0   \n9                   20845900.00               100.0   \n\n   Erforderlicher Verkaufspreis (Euro)  \n0                          11395419.35  \n1                           4877130.51  \n2                           7146916.33  \n3                           6058594.44  \n4                           5864513.56  \n5                           3343306.45  \n6                          27617541.67  \n7                           7183844.44  \n8                           2322938.71  \n9                          20845900.00  ",
      "text/html": "<div>\n<style scoped>\n    .dataframe tbody tr th:only-of-type {\n        vertical-align: middle;\n    }\n\n    .dataframe tbody tr th {\n        vertical-align: top;\n    }\n\n    .dataframe thead th {\n        text-align: right;\n    }\n</style>\n<table border=\"1\" class=\"dataframe\">\n  <thead>\n    <tr style=\"text-align: right;\">\n      <th></th>\n      <th>Produkttyp</th>\n      <th>Produkttyp Name</th>\n      <th>Zielgewinnspanne</th>\n      <th>Produzierte Einheiten</th>\n      <th>Arbeitskosten</th>\n      <th>Materialkosten</th>\n      <th>Sonstige Kosten</th>\n      <th>Gesamtkosten</th>\n      <th>Durchschnittliche Kosten pro Einheit</th>\n      <th>Erforderlicher Verkaufspreis</th>\n      <th>Bruttogewinnspanne</th>\n      <th>Erforderlicher Verkaufspreis (Euro)</th>\n    </tr>\n  </thead>\n  <tbody>\n    <tr>\n      <th>0</th>\n      <td>1</td>\n      <td>Wi-Fi Smelly Socks Detector</td>\n      <td>0.69</td>\n      <td>146558</td>\n      <td>2443119</td>\n      <td>215289</td>\n      <td>874172</td>\n      <td>3532580</td>\n      <td>24.10</td>\n      <td>11395419.35</td>\n      <td>100.0</td>\n      <td>11395419.35</td>\n    </tr>\n    <tr>\n      <th>1</th>\n      <td>2</td>\n      <td>Bluetooth Banana Phone</td>\n      <td>0.41</td>\n      <td>120382</td>\n      <td>1939708</td>\n      <td>183630</td>\n      <td>754169</td>\n      <td>2877507</td>\n      <td>23.90</td>\n      <td>4877130.51</td>\n      <td>100.0</td>\n      <td>4877130.51</td>\n    </tr>\n    <tr>\n      <th>2</th>\n      <td>3</td>\n      <td>Virtual Reality Nose Hair Trimmer</td>\n      <td>0.51</td>\n      <td>144343</td>\n      <td>2443251</td>\n      <td>216323</td>\n      <td>842415</td>\n      <td>3501989</td>\n      <td>24.26</td>\n      <td>7146916.33</td>\n      <td>100.0</td>\n      <td>7146916.33</td>\n    </tr>\n    <tr>\n      <th>3</th>\n      <td>4</td>\n      <td>Robotic Pizza Butler</td>\n      <td>0.46</td>\n      <td>139014</td>\n      <td>2173303</td>\n      <td>206174</td>\n      <td>892164</td>\n      <td>3271641</td>\n      <td>23.53</td>\n      <td>6058594.44</td>\n      <td>100.0</td>\n      <td>6058594.44</td>\n    </tr>\n    <tr>\n      <th>4</th>\n      <td>5</td>\n      <td>Selfie Toaster</td>\n      <td>0.41</td>\n      <td>143362</td>\n      <td>2386468</td>\n      <td>215910</td>\n      <td>857685</td>\n      <td>3460063</td>\n      <td>24.14</td>\n      <td>5864513.56</td>\n      <td>100.0</td>\n      <td>5864513.56</td>\n    </tr>\n    <tr>\n      <th>5</th>\n      <td>6</td>\n      <td>Electric Toothbrush Karaoke Machine</td>\n      <td>0.07</td>\n      <td>127675</td>\n      <td>2126813</td>\n      <td>198692</td>\n      <td>783770</td>\n      <td>3109275</td>\n      <td>24.35</td>\n      <td>3343306.45</td>\n      <td>100.0</td>\n      <td>3343306.45</td>\n    </tr>\n    <tr>\n      <th>6</th>\n      <td>7</td>\n      <td>Solar-Powered Rain Cloud</td>\n      <td>0.88</td>\n      <td>135960</td>\n      <td>2295551</td>\n      <td>201566</td>\n      <td>816988</td>\n      <td>3314105</td>\n      <td>24.38</td>\n      <td>27617541.67</td>\n      <td>100.0</td>\n      <td>27617541.67</td>\n    </tr>\n    <tr>\n      <th>7</th>\n      <td>8</td>\n      <td>Quantum Potato Computer</td>\n      <td>0.91</td>\n      <td>12409</td>\n      <td>288737</td>\n      <td>206159</td>\n      <td>151650</td>\n      <td>646546</td>\n      <td>52.10</td>\n      <td>7183844.44</td>\n      <td>100.0</td>\n      <td>7183844.44</td>\n    </tr>\n    <tr>\n      <th>8</th>\n      <td>9</td>\n      <td>BananaBox</td>\n      <td>0.69</td>\n      <td>13663</td>\n      <td>327673</td>\n      <td>224940</td>\n      <td>167498</td>\n      <td>720111</td>\n      <td>52.71</td>\n      <td>2322938.71</td>\n      <td>100.0</td>\n      <td>2322938.71</td>\n    </tr>\n    <tr>\n      <th>9</th>\n      <td>10</td>\n      <td>CheeseStation</td>\n      <td>0.97</td>\n      <td>12096</td>\n      <td>283104</td>\n      <td>194531</td>\n      <td>147742</td>\n      <td>625377</td>\n      <td>51.70</td>\n      <td>20845900.00</td>\n      <td>100.0</td>\n      <td>20845900.00</td>\n    </tr>\n  </tbody>\n</table>\n</div>"
     },
     "execution_count": 51,
     "metadata": {},
     "output_type": "execute_result"
    }
   ],
   "source": [
    "# Durchschnittliche Kosten pro Einheit berechnen und zur Tabelle hinzufügen\n",
    "summary_df[\"Durchschnittliche Kosten pro Einheit\"] = summary_df[\"Gesamtkosten\"] / summary_df[\"Produzierte Einheiten\"]\n",
    "summary_df[\"Durchschnittliche Kosten pro Einheit\"] = summary_df[\"Durchschnittliche Kosten pro Einheit\"].round(2)\n",
    "\n",
    "summary_df"
   ],
   "metadata": {
    "collapsed": false,
    "ExecuteTime": {
     "end_time": "2023-08-28T11:04:54.298682Z",
     "start_time": "2023-08-28T11:04:54.033188800Z"
    }
   },
   "id": "ba4bb916a7e3a991"
  },
  {
   "cell_type": "code",
   "execution_count": 36,
   "outputs": [],
   "source": [
    "summary_df.to_excel(\"summary_ds.xlsx\")"
   ],
   "metadata": {
    "collapsed": false,
    "ExecuteTime": {
     "end_time": "2023-08-28T09:42:05.108356900Z",
     "start_time": "2023-08-28T09:42:04.918381500Z"
    }
   },
   "id": "8f4aae24e70a0782"
  },
  {
   "cell_type": "code",
   "execution_count": 52,
   "outputs": [
    {
     "data": {
      "text/plain": "   Produkttyp                      Produkttyp Name  Zielgewinnspanne  \\\n0           1          Wi-Fi Smelly Socks Detector              0.69   \n1           2               Bluetooth Banana Phone              0.41   \n2           3    Virtual Reality Nose Hair Trimmer              0.51   \n3           4                 Robotic Pizza Butler              0.46   \n4           5                       Selfie Toaster              0.41   \n5           6  Electric Toothbrush Karaoke Machine              0.07   \n6           7             Solar-Powered Rain Cloud              0.88   \n7           8              Quantum Potato Computer              0.91   \n8           9                            BananaBox              0.69   \n9          10                        CheeseStation              0.97   \n\n   Produzierte Einheiten  Arbeitskosten  Materialkosten  Sonstige Kosten  \\\n0                 146558        2443119          215289           874172   \n1                 120382        1939708          183630           754169   \n2                 144343        2443251          216323           842415   \n3                 139014        2173303          206174           892164   \n4                 143362        2386468          215910           857685   \n5                 127675        2126813          198692           783770   \n6                 135960        2295551          201566           816988   \n7                  12409         288737          206159           151650   \n8                  13663         327673          224940           167498   \n9                  12096         283104          194531           147742   \n\n   Gesamtkosten  Durchschnittliche Kosten pro Einheit  \\\n0       3532580                                 24.10   \n1       2877507                                 23.90   \n2       3501989                                 24.26   \n3       3271641                                 23.53   \n4       3460063                                 24.14   \n5       3109275                                 24.35   \n6       3314105                                 24.38   \n7        646546                                 52.10   \n8        720111                                 52.71   \n9        625377                                 51.70   \n\n   Erforderlicher Verkaufspreis  Bruttogewinnspanne  \\\n0                   11395419.35               100.0   \n1                    4877130.51               100.0   \n2                    7146916.33               100.0   \n3                    6058594.44               100.0   \n4                    5864513.56               100.0   \n5                    3343306.45               100.0   \n6                   27617541.67               100.0   \n7                    7183844.44               100.0   \n8                    2322938.71               100.0   \n9                   20845900.00               100.0   \n\n   Erforderlicher Verkaufspreis (Euro)  \n0                          11395419.35  \n1                           4877130.51  \n2                           7146916.33  \n3                           6058594.44  \n4                           5864513.56  \n5                           3343306.45  \n6                          27617541.67  \n7                           7183844.44  \n8                           2322938.71  \n9                          20845900.00  ",
      "text/html": "<div>\n<style scoped>\n    .dataframe tbody tr th:only-of-type {\n        vertical-align: middle;\n    }\n\n    .dataframe tbody tr th {\n        vertical-align: top;\n    }\n\n    .dataframe thead th {\n        text-align: right;\n    }\n</style>\n<table border=\"1\" class=\"dataframe\">\n  <thead>\n    <tr style=\"text-align: right;\">\n      <th></th>\n      <th>Produkttyp</th>\n      <th>Produkttyp Name</th>\n      <th>Zielgewinnspanne</th>\n      <th>Produzierte Einheiten</th>\n      <th>Arbeitskosten</th>\n      <th>Materialkosten</th>\n      <th>Sonstige Kosten</th>\n      <th>Gesamtkosten</th>\n      <th>Durchschnittliche Kosten pro Einheit</th>\n      <th>Erforderlicher Verkaufspreis</th>\n      <th>Bruttogewinnspanne</th>\n      <th>Erforderlicher Verkaufspreis (Euro)</th>\n    </tr>\n  </thead>\n  <tbody>\n    <tr>\n      <th>0</th>\n      <td>1</td>\n      <td>Wi-Fi Smelly Socks Detector</td>\n      <td>0.69</td>\n      <td>146558</td>\n      <td>2443119</td>\n      <td>215289</td>\n      <td>874172</td>\n      <td>3532580</td>\n      <td>24.10</td>\n      <td>11395419.35</td>\n      <td>100.0</td>\n      <td>11395419.35</td>\n    </tr>\n    <tr>\n      <th>1</th>\n      <td>2</td>\n      <td>Bluetooth Banana Phone</td>\n      <td>0.41</td>\n      <td>120382</td>\n      <td>1939708</td>\n      <td>183630</td>\n      <td>754169</td>\n      <td>2877507</td>\n      <td>23.90</td>\n      <td>4877130.51</td>\n      <td>100.0</td>\n      <td>4877130.51</td>\n    </tr>\n    <tr>\n      <th>2</th>\n      <td>3</td>\n      <td>Virtual Reality Nose Hair Trimmer</td>\n      <td>0.51</td>\n      <td>144343</td>\n      <td>2443251</td>\n      <td>216323</td>\n      <td>842415</td>\n      <td>3501989</td>\n      <td>24.26</td>\n      <td>7146916.33</td>\n      <td>100.0</td>\n      <td>7146916.33</td>\n    </tr>\n    <tr>\n      <th>3</th>\n      <td>4</td>\n      <td>Robotic Pizza Butler</td>\n      <td>0.46</td>\n      <td>139014</td>\n      <td>2173303</td>\n      <td>206174</td>\n      <td>892164</td>\n      <td>3271641</td>\n      <td>23.53</td>\n      <td>6058594.44</td>\n      <td>100.0</td>\n      <td>6058594.44</td>\n    </tr>\n    <tr>\n      <th>4</th>\n      <td>5</td>\n      <td>Selfie Toaster</td>\n      <td>0.41</td>\n      <td>143362</td>\n      <td>2386468</td>\n      <td>215910</td>\n      <td>857685</td>\n      <td>3460063</td>\n      <td>24.14</td>\n      <td>5864513.56</td>\n      <td>100.0</td>\n      <td>5864513.56</td>\n    </tr>\n    <tr>\n      <th>5</th>\n      <td>6</td>\n      <td>Electric Toothbrush Karaoke Machine</td>\n      <td>0.07</td>\n      <td>127675</td>\n      <td>2126813</td>\n      <td>198692</td>\n      <td>783770</td>\n      <td>3109275</td>\n      <td>24.35</td>\n      <td>3343306.45</td>\n      <td>100.0</td>\n      <td>3343306.45</td>\n    </tr>\n    <tr>\n      <th>6</th>\n      <td>7</td>\n      <td>Solar-Powered Rain Cloud</td>\n      <td>0.88</td>\n      <td>135960</td>\n      <td>2295551</td>\n      <td>201566</td>\n      <td>816988</td>\n      <td>3314105</td>\n      <td>24.38</td>\n      <td>27617541.67</td>\n      <td>100.0</td>\n      <td>27617541.67</td>\n    </tr>\n    <tr>\n      <th>7</th>\n      <td>8</td>\n      <td>Quantum Potato Computer</td>\n      <td>0.91</td>\n      <td>12409</td>\n      <td>288737</td>\n      <td>206159</td>\n      <td>151650</td>\n      <td>646546</td>\n      <td>52.10</td>\n      <td>7183844.44</td>\n      <td>100.0</td>\n      <td>7183844.44</td>\n    </tr>\n    <tr>\n      <th>8</th>\n      <td>9</td>\n      <td>BananaBox</td>\n      <td>0.69</td>\n      <td>13663</td>\n      <td>327673</td>\n      <td>224940</td>\n      <td>167498</td>\n      <td>720111</td>\n      <td>52.71</td>\n      <td>2322938.71</td>\n      <td>100.0</td>\n      <td>2322938.71</td>\n    </tr>\n    <tr>\n      <th>9</th>\n      <td>10</td>\n      <td>CheeseStation</td>\n      <td>0.97</td>\n      <td>12096</td>\n      <td>283104</td>\n      <td>194531</td>\n      <td>147742</td>\n      <td>625377</td>\n      <td>51.70</td>\n      <td>20845900.00</td>\n      <td>100.0</td>\n      <td>20845900.00</td>\n    </tr>\n  </tbody>\n</table>\n</div>"
     },
     "execution_count": 52,
     "metadata": {},
     "output_type": "execute_result"
    }
   ],
   "source": [
    "# Erforderlicher Verkaufspreis berechnen und zur Tabelle hinzufügen\n",
    "summary_df[\"Erforderlicher Verkaufspreis\"] = summary_df[\"Gesamtkosten\"] / (1 - summary_df[\"Zielgewinnspanne\"])\n",
    "summary_df[\"Erforderlicher Verkaufspreis\"] = summary_df[\"Erforderlicher Verkaufspreis\"].round(2)\n",
    "\n",
    "\n",
    "summary_df"
   ],
   "metadata": {
    "collapsed": false,
    "ExecuteTime": {
     "end_time": "2023-08-28T11:05:02.215177100Z",
     "start_time": "2023-08-28T11:05:01.940001300Z"
    }
   },
   "id": "d531d02bf592166b"
  },
  {
   "cell_type": "code",
   "execution_count": 37,
   "outputs": [],
   "source": [
    "summary_df.to_excel(\"summary_verkaufspreis.xlsx\")"
   ],
   "metadata": {
    "collapsed": false,
    "ExecuteTime": {
     "end_time": "2023-08-28T09:42:28.849014500Z",
     "start_time": "2023-08-28T09:42:28.711587500Z"
    }
   },
   "id": "d4fbe15fe732df26"
  },
  {
   "cell_type": "code",
   "execution_count": 49,
   "outputs": [
    {
     "data": {
      "text/plain": "   Produkttyp                      Produkttyp Name  Zielgewinnspanne  \\\n0           1          Wi-Fi Smelly Socks Detector              0.69   \n1           2               Bluetooth Banana Phone              0.41   \n2           3    Virtual Reality Nose Hair Trimmer              0.51   \n3           4                 Robotic Pizza Butler              0.46   \n4           5                       Selfie Toaster              0.41   \n5           6  Electric Toothbrush Karaoke Machine              0.07   \n6           7             Solar-Powered Rain Cloud              0.88   \n7           8              Quantum Potato Computer              0.91   \n8           9                            BananaBox              0.69   \n9          10                        CheeseStation              0.97   \n\n   Produzierte Einheiten  Arbeitskosten  Materialkosten  Sonstige Kosten  \\\n0                 146558        2443119          215289           874172   \n1                 120382        1939708          183630           754169   \n2                 144343        2443251          216323           842415   \n3                 139014        2173303          206174           892164   \n4                 143362        2386468          215910           857685   \n5                 127675        2126813          198692           783770   \n6                 135960        2295551          201566           816988   \n7                  12409         288737          206159           151650   \n8                  13663         327673          224940           167498   \n9                  12096         283104          194531           147742   \n\n   Gesamtkosten  Durchschnittliche Kosten pro Einheit  \\\n0       3532580                                 24.10   \n1       2877507                                 23.90   \n2       3501989                                 24.26   \n3       3271641                                 23.53   \n4       3460063                                 24.14   \n5       3109275                                 24.35   \n6       3314105                                 24.38   \n7        646546                                 52.10   \n8        720111                                 52.71   \n9        625377                                 51.70   \n\n   Erforderlicher Verkaufspreis  Bruttogewinnspanne  \\\n0                   11395419.35               100.0   \n1                    4877130.51               100.0   \n2                    7146916.33               100.0   \n3                    6058594.44               100.0   \n4                    5864513.56               100.0   \n5                    3343306.45               100.0   \n6                   27617541.67               100.0   \n7                    7183844.44               100.0   \n8                    2322938.71               100.0   \n9                   20845900.00               100.0   \n\n   Erforderlicher Verkaufspreis (Euro)  \n0                          11395419.35  \n1                           4877130.51  \n2                           7146916.33  \n3                           6058594.44  \n4                           5864513.56  \n5                           3343306.45  \n6                          27617541.67  \n7                           7183844.44  \n8                           2322938.71  \n9                          20845900.00  ",
      "text/html": "<div>\n<style scoped>\n    .dataframe tbody tr th:only-of-type {\n        vertical-align: middle;\n    }\n\n    .dataframe tbody tr th {\n        vertical-align: top;\n    }\n\n    .dataframe thead th {\n        text-align: right;\n    }\n</style>\n<table border=\"1\" class=\"dataframe\">\n  <thead>\n    <tr style=\"text-align: right;\">\n      <th></th>\n      <th>Produkttyp</th>\n      <th>Produkttyp Name</th>\n      <th>Zielgewinnspanne</th>\n      <th>Produzierte Einheiten</th>\n      <th>Arbeitskosten</th>\n      <th>Materialkosten</th>\n      <th>Sonstige Kosten</th>\n      <th>Gesamtkosten</th>\n      <th>Durchschnittliche Kosten pro Einheit</th>\n      <th>Erforderlicher Verkaufspreis</th>\n      <th>Bruttogewinnspanne</th>\n      <th>Erforderlicher Verkaufspreis (Euro)</th>\n    </tr>\n  </thead>\n  <tbody>\n    <tr>\n      <th>0</th>\n      <td>1</td>\n      <td>Wi-Fi Smelly Socks Detector</td>\n      <td>0.69</td>\n      <td>146558</td>\n      <td>2443119</td>\n      <td>215289</td>\n      <td>874172</td>\n      <td>3532580</td>\n      <td>24.10</td>\n      <td>11395419.35</td>\n      <td>100.0</td>\n      <td>11395419.35</td>\n    </tr>\n    <tr>\n      <th>1</th>\n      <td>2</td>\n      <td>Bluetooth Banana Phone</td>\n      <td>0.41</td>\n      <td>120382</td>\n      <td>1939708</td>\n      <td>183630</td>\n      <td>754169</td>\n      <td>2877507</td>\n      <td>23.90</td>\n      <td>4877130.51</td>\n      <td>100.0</td>\n      <td>4877130.51</td>\n    </tr>\n    <tr>\n      <th>2</th>\n      <td>3</td>\n      <td>Virtual Reality Nose Hair Trimmer</td>\n      <td>0.51</td>\n      <td>144343</td>\n      <td>2443251</td>\n      <td>216323</td>\n      <td>842415</td>\n      <td>3501989</td>\n      <td>24.26</td>\n      <td>7146916.33</td>\n      <td>100.0</td>\n      <td>7146916.33</td>\n    </tr>\n    <tr>\n      <th>3</th>\n      <td>4</td>\n      <td>Robotic Pizza Butler</td>\n      <td>0.46</td>\n      <td>139014</td>\n      <td>2173303</td>\n      <td>206174</td>\n      <td>892164</td>\n      <td>3271641</td>\n      <td>23.53</td>\n      <td>6058594.44</td>\n      <td>100.0</td>\n      <td>6058594.44</td>\n    </tr>\n    <tr>\n      <th>4</th>\n      <td>5</td>\n      <td>Selfie Toaster</td>\n      <td>0.41</td>\n      <td>143362</td>\n      <td>2386468</td>\n      <td>215910</td>\n      <td>857685</td>\n      <td>3460063</td>\n      <td>24.14</td>\n      <td>5864513.56</td>\n      <td>100.0</td>\n      <td>5864513.56</td>\n    </tr>\n    <tr>\n      <th>5</th>\n      <td>6</td>\n      <td>Electric Toothbrush Karaoke Machine</td>\n      <td>0.07</td>\n      <td>127675</td>\n      <td>2126813</td>\n      <td>198692</td>\n      <td>783770</td>\n      <td>3109275</td>\n      <td>24.35</td>\n      <td>3343306.45</td>\n      <td>100.0</td>\n      <td>3343306.45</td>\n    </tr>\n    <tr>\n      <th>6</th>\n      <td>7</td>\n      <td>Solar-Powered Rain Cloud</td>\n      <td>0.88</td>\n      <td>135960</td>\n      <td>2295551</td>\n      <td>201566</td>\n      <td>816988</td>\n      <td>3314105</td>\n      <td>24.38</td>\n      <td>27617541.67</td>\n      <td>100.0</td>\n      <td>27617541.67</td>\n    </tr>\n    <tr>\n      <th>7</th>\n      <td>8</td>\n      <td>Quantum Potato Computer</td>\n      <td>0.91</td>\n      <td>12409</td>\n      <td>288737</td>\n      <td>206159</td>\n      <td>151650</td>\n      <td>646546</td>\n      <td>52.10</td>\n      <td>7183844.44</td>\n      <td>100.0</td>\n      <td>7183844.44</td>\n    </tr>\n    <tr>\n      <th>8</th>\n      <td>9</td>\n      <td>BananaBox</td>\n      <td>0.69</td>\n      <td>13663</td>\n      <td>327673</td>\n      <td>224940</td>\n      <td>167498</td>\n      <td>720111</td>\n      <td>52.71</td>\n      <td>2322938.71</td>\n      <td>100.0</td>\n      <td>2322938.71</td>\n    </tr>\n    <tr>\n      <th>9</th>\n      <td>10</td>\n      <td>CheeseStation</td>\n      <td>0.97</td>\n      <td>12096</td>\n      <td>283104</td>\n      <td>194531</td>\n      <td>147742</td>\n      <td>625377</td>\n      <td>51.70</td>\n      <td>20845900.00</td>\n      <td>100.0</td>\n      <td>20845900.00</td>\n    </tr>\n  </tbody>\n</table>\n</div>"
     },
     "execution_count": 49,
     "metadata": {},
     "output_type": "execute_result"
    }
   ],
   "source": [
    "summary_df[\"Bruttogewinnspanne\"] = ((summary_df[\"Erforderlicher Verkaufspreis\"] - summary_df[\"Durchschnittliche Kosten pro Einheit\"]) / summary_df[\"Erforderlicher Verkaufspreis\"]) * 100\n",
    "\n",
    "# Ergebnisse auf 2 Nachkommastellen formatieren\n",
    "summary_df[\"Durchschnittliche Kosten pro Einheit\"] = summary_df[\"Durchschnittliche Kosten pro Einheit\"].round(2)\n",
    "summary_df[\"Erforderlicher Verkaufspreis\"] = summary_df[\"Erforderlicher Verkaufspreis\"].round(2)\n",
    "summary_df[\"Bruttogewinnspanne\"] = summary_df[\"Bruttogewinnspanne\"].round(2)\n",
    "\n",
    "summary_df"
   ],
   "metadata": {
    "collapsed": false,
    "ExecuteTime": {
     "end_time": "2023-08-28T11:04:05.427150400Z",
     "start_time": "2023-08-28T11:04:05.205540800Z"
    }
   },
   "id": "827cfa45544411a9"
  },
  {
   "cell_type": "code",
   "execution_count": 48,
   "outputs": [
    {
     "data": {
      "text/plain": "   Produkttyp                      Produkttyp Name  Zielgewinnspanne  \\\n0           1          Wi-Fi Smelly Socks Detector              0.69   \n1           2               Bluetooth Banana Phone              0.41   \n2           3    Virtual Reality Nose Hair Trimmer              0.51   \n3           4                 Robotic Pizza Butler              0.46   \n4           5                       Selfie Toaster              0.41   \n5           6  Electric Toothbrush Karaoke Machine              0.07   \n6           7             Solar-Powered Rain Cloud              0.88   \n7           8              Quantum Potato Computer              0.91   \n8           9                            BananaBox              0.69   \n9          10                        CheeseStation              0.97   \n\n   Produzierte Einheiten  Arbeitskosten  Materialkosten  Sonstige Kosten  \\\n0                 146558        2443119          215289           874172   \n1                 120382        1939708          183630           754169   \n2                 144343        2443251          216323           842415   \n3                 139014        2173303          206174           892164   \n4                 143362        2386468          215910           857685   \n5                 127675        2126813          198692           783770   \n6                 135960        2295551          201566           816988   \n7                  12409         288737          206159           151650   \n8                  13663         327673          224940           167498   \n9                  12096         283104          194531           147742   \n\n   Gesamtkosten  Durchschnittliche Kosten pro Einheit  \\\n0       3532580                                 24.10   \n1       2877507                                 23.90   \n2       3501989                                 24.26   \n3       3271641                                 23.53   \n4       3460063                                 24.14   \n5       3109275                                 24.35   \n6       3314105                                 24.38   \n7        646546                                 52.10   \n8        720111                                 52.71   \n9        625377                                 51.70   \n\n   Erforderlicher Verkaufspreis  Bruttogewinnspanne  \\\n0                   11395419.35               100.0   \n1                    4877130.51               100.0   \n2                    7146916.33               100.0   \n3                    6058594.44               100.0   \n4                    5864513.56               100.0   \n5                    3343306.45               100.0   \n6                   27617541.67               100.0   \n7                    7183844.44               100.0   \n8                    2322938.71               100.0   \n9                   20845900.00               100.0   \n\n   Erforderlicher Verkaufspreis (Euro)  \n0                          11395419.35  \n1                           4877130.51  \n2                           7146916.33  \n3                           6058594.44  \n4                           5864513.56  \n5                           3343306.45  \n6                          27617541.67  \n7                           7183844.44  \n8                           2322938.71  \n9                          20845900.00  ",
      "text/html": "<div>\n<style scoped>\n    .dataframe tbody tr th:only-of-type {\n        vertical-align: middle;\n    }\n\n    .dataframe tbody tr th {\n        vertical-align: top;\n    }\n\n    .dataframe thead th {\n        text-align: right;\n    }\n</style>\n<table border=\"1\" class=\"dataframe\">\n  <thead>\n    <tr style=\"text-align: right;\">\n      <th></th>\n      <th>Produkttyp</th>\n      <th>Produkttyp Name</th>\n      <th>Zielgewinnspanne</th>\n      <th>Produzierte Einheiten</th>\n      <th>Arbeitskosten</th>\n      <th>Materialkosten</th>\n      <th>Sonstige Kosten</th>\n      <th>Gesamtkosten</th>\n      <th>Durchschnittliche Kosten pro Einheit</th>\n      <th>Erforderlicher Verkaufspreis</th>\n      <th>Bruttogewinnspanne</th>\n      <th>Erforderlicher Verkaufspreis (Euro)</th>\n    </tr>\n  </thead>\n  <tbody>\n    <tr>\n      <th>0</th>\n      <td>1</td>\n      <td>Wi-Fi Smelly Socks Detector</td>\n      <td>0.69</td>\n      <td>146558</td>\n      <td>2443119</td>\n      <td>215289</td>\n      <td>874172</td>\n      <td>3532580</td>\n      <td>24.10</td>\n      <td>11395419.35</td>\n      <td>100.0</td>\n      <td>11395419.35</td>\n    </tr>\n    <tr>\n      <th>1</th>\n      <td>2</td>\n      <td>Bluetooth Banana Phone</td>\n      <td>0.41</td>\n      <td>120382</td>\n      <td>1939708</td>\n      <td>183630</td>\n      <td>754169</td>\n      <td>2877507</td>\n      <td>23.90</td>\n      <td>4877130.51</td>\n      <td>100.0</td>\n      <td>4877130.51</td>\n    </tr>\n    <tr>\n      <th>2</th>\n      <td>3</td>\n      <td>Virtual Reality Nose Hair Trimmer</td>\n      <td>0.51</td>\n      <td>144343</td>\n      <td>2443251</td>\n      <td>216323</td>\n      <td>842415</td>\n      <td>3501989</td>\n      <td>24.26</td>\n      <td>7146916.33</td>\n      <td>100.0</td>\n      <td>7146916.33</td>\n    </tr>\n    <tr>\n      <th>3</th>\n      <td>4</td>\n      <td>Robotic Pizza Butler</td>\n      <td>0.46</td>\n      <td>139014</td>\n      <td>2173303</td>\n      <td>206174</td>\n      <td>892164</td>\n      <td>3271641</td>\n      <td>23.53</td>\n      <td>6058594.44</td>\n      <td>100.0</td>\n      <td>6058594.44</td>\n    </tr>\n    <tr>\n      <th>4</th>\n      <td>5</td>\n      <td>Selfie Toaster</td>\n      <td>0.41</td>\n      <td>143362</td>\n      <td>2386468</td>\n      <td>215910</td>\n      <td>857685</td>\n      <td>3460063</td>\n      <td>24.14</td>\n      <td>5864513.56</td>\n      <td>100.0</td>\n      <td>5864513.56</td>\n    </tr>\n    <tr>\n      <th>5</th>\n      <td>6</td>\n      <td>Electric Toothbrush Karaoke Machine</td>\n      <td>0.07</td>\n      <td>127675</td>\n      <td>2126813</td>\n      <td>198692</td>\n      <td>783770</td>\n      <td>3109275</td>\n      <td>24.35</td>\n      <td>3343306.45</td>\n      <td>100.0</td>\n      <td>3343306.45</td>\n    </tr>\n    <tr>\n      <th>6</th>\n      <td>7</td>\n      <td>Solar-Powered Rain Cloud</td>\n      <td>0.88</td>\n      <td>135960</td>\n      <td>2295551</td>\n      <td>201566</td>\n      <td>816988</td>\n      <td>3314105</td>\n      <td>24.38</td>\n      <td>27617541.67</td>\n      <td>100.0</td>\n      <td>27617541.67</td>\n    </tr>\n    <tr>\n      <th>7</th>\n      <td>8</td>\n      <td>Quantum Potato Computer</td>\n      <td>0.91</td>\n      <td>12409</td>\n      <td>288737</td>\n      <td>206159</td>\n      <td>151650</td>\n      <td>646546</td>\n      <td>52.10</td>\n      <td>7183844.44</td>\n      <td>100.0</td>\n      <td>7183844.44</td>\n    </tr>\n    <tr>\n      <th>8</th>\n      <td>9</td>\n      <td>BananaBox</td>\n      <td>0.69</td>\n      <td>13663</td>\n      <td>327673</td>\n      <td>224940</td>\n      <td>167498</td>\n      <td>720111</td>\n      <td>52.71</td>\n      <td>2322938.71</td>\n      <td>100.0</td>\n      <td>2322938.71</td>\n    </tr>\n    <tr>\n      <th>9</th>\n      <td>10</td>\n      <td>CheeseStation</td>\n      <td>0.97</td>\n      <td>12096</td>\n      <td>283104</td>\n      <td>194531</td>\n      <td>147742</td>\n      <td>625377</td>\n      <td>51.70</td>\n      <td>20845900.00</td>\n      <td>100.0</td>\n      <td>20845900.00</td>\n    </tr>\n  </tbody>\n</table>\n</div>"
     },
     "execution_count": 48,
     "metadata": {},
     "output_type": "execute_result"
    }
   ],
   "source": [
    "# Bruttogewinnspanne berechnen und zur Tabelle hinzufügen\n",
    "summary_df[\"Bruttogewinnspanne\"] = ((summary_df[\"Erforderlicher Verkaufspreis\"] - summary_df[\"Durchschnittliche Kosten pro Einheit\"]) / summary_df[\"Erforderlicher Verkaufspreis\"]) * 100\n",
    "\n",
    "# Ergebnisse auf 2 Nachkommastellen formatieren\n",
    "summary_df[\"Durchschnittliche Kosten pro Einheit\"] = summary_df[\"Durchschnittliche Kosten pro Einheit\"].round(2)\n",
    "\n",
    "summary_df[\"Bruttogewinnspanne\"] = summary_df[\"Bruttogewinnspanne\"].round(2)\n",
    "\n",
    "summary_df"
   ],
   "metadata": {
    "collapsed": false,
    "ExecuteTime": {
     "end_time": "2023-08-28T11:03:41.638834300Z",
     "start_time": "2023-08-28T11:03:41.429222Z"
    }
   },
   "id": "dccdef3107248be8"
  },
  {
   "cell_type": "code",
   "execution_count": null,
   "outputs": [],
   "source": [],
   "metadata": {
    "collapsed": false
   },
   "id": "6ac3c2a6bf5fa2fa"
  },
  {
   "cell_type": "code",
   "execution_count": null,
   "outputs": [],
   "source": [],
   "metadata": {
    "collapsed": false
   },
   "id": "d4db466908f9cff7"
  },
  {
   "cell_type": "code",
   "execution_count": null,
   "outputs": [],
   "source": [],
   "metadata": {
    "collapsed": false
   },
   "id": "21a5f6e6955a6047"
  },
  {
   "cell_type": "code",
   "execution_count": null,
   "outputs": [],
   "source": [],
   "metadata": {
    "collapsed": false
   },
   "id": "272fb60f0b006b18"
  }
 ],
 "metadata": {
  "kernelspec": {
   "display_name": "Python 3",
   "language": "python",
   "name": "python3"
  },
  "language_info": {
   "codemirror_mode": {
    "name": "ipython",
    "version": 2
   },
   "file_extension": ".py",
   "mimetype": "text/x-python",
   "name": "python",
   "nbconvert_exporter": "python",
   "pygments_lexer": "ipython2",
   "version": "2.7.6"
  }
 },
 "nbformat": 4,
 "nbformat_minor": 5
}
