{
 "cells": [
  {
   "cell_type": "code",
   "execution_count": 1,
   "id": "initial_id",
   "metadata": {
    "collapsed": true,
    "ExecuteTime": {
     "end_time": "2023-08-28T12:59:03.020251200Z",
     "start_time": "2023-08-28T12:59:01.227640100Z"
    }
   },
   "outputs": [],
   "source": [
    "import pandas as pd\n",
    "import plotly.express as px\n",
    "import dash\n",
    "import dash_core_components as dcc\n",
    "import dash_html_components as html\n",
    "from dash.dependencies import Input, Output"
   ]
  },
  {
   "cell_type": "code",
   "execution_count": 8,
   "outputs": [
    {
     "data": {
      "text/plain": "     Produkttyp              Produkttyp Name Monat/Jahr  Zielgewinnspanne  \\\n0             1  Wi-Fi Smelly Socks Detector   Apr 2020              0.69   \n1             1  Wi-Fi Smelly Socks Detector   Apr 2021              0.69   \n2             1  Wi-Fi Smelly Socks Detector   Apr 2022              0.69   \n3             1  Wi-Fi Smelly Socks Detector   Aug 2020              0.69   \n4             1  Wi-Fi Smelly Socks Detector   Aug 2021              0.69   \n..          ...                          ...        ...               ...   \n355          10                CheeseStation   Oct 2021              0.97   \n356          10                CheeseStation   Oct 2022              0.97   \n357          10                CheeseStation   Sep 2020              0.97   \n358          10                CheeseStation   Sep 2021              0.97   \n359          10                CheeseStation   Sep 2022              0.97   \n\n     Produzierte Einheiten  Arbeitskosten  Materialkosten  Sonstige Kosten  \n0                     5420         108424            6906            26678  \n1                     1816          25051            3374            14614  \n2                     3856          62777            5411            23371  \n3                     3003          52436            3824            19607  \n4                     3255          53686            5784            22730  \n..                     ...            ...             ...              ...  \n355                    238           6317            3370             2801  \n356                    251           6906            3455             2722  \n357                    372           8606            5913             4190  \n358                    427           9835            6996             5420  \n359                    154           3432            2508             1980  \n\n[360 rows x 8 columns]",
      "text/html": "<div>\n<style scoped>\n    .dataframe tbody tr th:only-of-type {\n        vertical-align: middle;\n    }\n\n    .dataframe tbody tr th {\n        vertical-align: top;\n    }\n\n    .dataframe thead th {\n        text-align: right;\n    }\n</style>\n<table border=\"1\" class=\"dataframe\">\n  <thead>\n    <tr style=\"text-align: right;\">\n      <th></th>\n      <th>Produkttyp</th>\n      <th>Produkttyp Name</th>\n      <th>Monat/Jahr</th>\n      <th>Zielgewinnspanne</th>\n      <th>Produzierte Einheiten</th>\n      <th>Arbeitskosten</th>\n      <th>Materialkosten</th>\n      <th>Sonstige Kosten</th>\n    </tr>\n  </thead>\n  <tbody>\n    <tr>\n      <th>0</th>\n      <td>1</td>\n      <td>Wi-Fi Smelly Socks Detector</td>\n      <td>Apr 2020</td>\n      <td>0.69</td>\n      <td>5420</td>\n      <td>108424</td>\n      <td>6906</td>\n      <td>26678</td>\n    </tr>\n    <tr>\n      <th>1</th>\n      <td>1</td>\n      <td>Wi-Fi Smelly Socks Detector</td>\n      <td>Apr 2021</td>\n      <td>0.69</td>\n      <td>1816</td>\n      <td>25051</td>\n      <td>3374</td>\n      <td>14614</td>\n    </tr>\n    <tr>\n      <th>2</th>\n      <td>1</td>\n      <td>Wi-Fi Smelly Socks Detector</td>\n      <td>Apr 2022</td>\n      <td>0.69</td>\n      <td>3856</td>\n      <td>62777</td>\n      <td>5411</td>\n      <td>23371</td>\n    </tr>\n    <tr>\n      <th>3</th>\n      <td>1</td>\n      <td>Wi-Fi Smelly Socks Detector</td>\n      <td>Aug 2020</td>\n      <td>0.69</td>\n      <td>3003</td>\n      <td>52436</td>\n      <td>3824</td>\n      <td>19607</td>\n    </tr>\n    <tr>\n      <th>4</th>\n      <td>1</td>\n      <td>Wi-Fi Smelly Socks Detector</td>\n      <td>Aug 2021</td>\n      <td>0.69</td>\n      <td>3255</td>\n      <td>53686</td>\n      <td>5784</td>\n      <td>22730</td>\n    </tr>\n    <tr>\n      <th>...</th>\n      <td>...</td>\n      <td>...</td>\n      <td>...</td>\n      <td>...</td>\n      <td>...</td>\n      <td>...</td>\n      <td>...</td>\n      <td>...</td>\n    </tr>\n    <tr>\n      <th>355</th>\n      <td>10</td>\n      <td>CheeseStation</td>\n      <td>Oct 2021</td>\n      <td>0.97</td>\n      <td>238</td>\n      <td>6317</td>\n      <td>3370</td>\n      <td>2801</td>\n    </tr>\n    <tr>\n      <th>356</th>\n      <td>10</td>\n      <td>CheeseStation</td>\n      <td>Oct 2022</td>\n      <td>0.97</td>\n      <td>251</td>\n      <td>6906</td>\n      <td>3455</td>\n      <td>2722</td>\n    </tr>\n    <tr>\n      <th>357</th>\n      <td>10</td>\n      <td>CheeseStation</td>\n      <td>Sep 2020</td>\n      <td>0.97</td>\n      <td>372</td>\n      <td>8606</td>\n      <td>5913</td>\n      <td>4190</td>\n    </tr>\n    <tr>\n      <th>358</th>\n      <td>10</td>\n      <td>CheeseStation</td>\n      <td>Sep 2021</td>\n      <td>0.97</td>\n      <td>427</td>\n      <td>9835</td>\n      <td>6996</td>\n      <td>5420</td>\n    </tr>\n    <tr>\n      <th>359</th>\n      <td>10</td>\n      <td>CheeseStation</td>\n      <td>Sep 2022</td>\n      <td>0.97</td>\n      <td>154</td>\n      <td>3432</td>\n      <td>2508</td>\n      <td>1980</td>\n    </tr>\n  </tbody>\n</table>\n<p>360 rows × 8 columns</p>\n</div>"
     },
     "execution_count": 8,
     "metadata": {},
     "output_type": "execute_result"
    }
   ],
   "source": [
    "summary_df = pd.read_excel(\"summary.xlsx\")\n",
    "del summary_df[\"Unnamed: 0\"]\n",
    "\n",
    "summary_df"
   ],
   "metadata": {
    "collapsed": false,
    "ExecuteTime": {
     "end_time": "2023-08-28T11:14:17.355902100Z",
     "start_time": "2023-08-28T11:14:17.179251100Z"
    }
   },
   "id": "932af4e923e4ec71"
  },
  {
   "cell_type": "code",
   "execution_count": 10,
   "outputs": [
    {
     "data": {
      "text/plain": "     Produkttyp              Produkttyp Name Monat/Jahr  Zielgewinnspanne  \\\n0             1  Wi-Fi Smelly Socks Detector   Apr 2020              0.69   \n1             1  Wi-Fi Smelly Socks Detector   Apr 2021              0.69   \n2             1  Wi-Fi Smelly Socks Detector   Apr 2022              0.69   \n3             1  Wi-Fi Smelly Socks Detector   Aug 2020              0.69   \n4             1  Wi-Fi Smelly Socks Detector   Aug 2021              0.69   \n..          ...                          ...        ...               ...   \n355          10                CheeseStation   Oct 2021              0.97   \n356          10                CheeseStation   Oct 2022              0.97   \n357          10                CheeseStation   Sep 2020              0.97   \n358          10                CheeseStation   Sep 2021              0.97   \n359          10                CheeseStation   Sep 2022              0.97   \n\n     Produzierte Einheiten  Arbeitskosten  Materialkosten  Sonstige Kosten  \\\n0                     5420         108424            6906            26678   \n1                     1816          25051            3374            14614   \n2                     3856          62777            5411            23371   \n3                     3003          52436            3824            19607   \n4                     3255          53686            5784            22730   \n..                     ...            ...             ...              ...   \n355                    238           6317            3370             2801   \n356                    251           6906            3455             2722   \n357                    372           8606            5913             4190   \n358                    427           9835            6996             5420   \n359                    154           3432            2508             1980   \n\n     Gesamtkosten  \n0          142008  \n1           43039  \n2           91559  \n3           75867  \n4           82200  \n..            ...  \n355         12488  \n356         13083  \n357         18709  \n358         22251  \n359          7920  \n\n[360 rows x 9 columns]",
      "text/html": "<div>\n<style scoped>\n    .dataframe tbody tr th:only-of-type {\n        vertical-align: middle;\n    }\n\n    .dataframe tbody tr th {\n        vertical-align: top;\n    }\n\n    .dataframe thead th {\n        text-align: right;\n    }\n</style>\n<table border=\"1\" class=\"dataframe\">\n  <thead>\n    <tr style=\"text-align: right;\">\n      <th></th>\n      <th>Produkttyp</th>\n      <th>Produkttyp Name</th>\n      <th>Monat/Jahr</th>\n      <th>Zielgewinnspanne</th>\n      <th>Produzierte Einheiten</th>\n      <th>Arbeitskosten</th>\n      <th>Materialkosten</th>\n      <th>Sonstige Kosten</th>\n      <th>Gesamtkosten</th>\n    </tr>\n  </thead>\n  <tbody>\n    <tr>\n      <th>0</th>\n      <td>1</td>\n      <td>Wi-Fi Smelly Socks Detector</td>\n      <td>Apr 2020</td>\n      <td>0.69</td>\n      <td>5420</td>\n      <td>108424</td>\n      <td>6906</td>\n      <td>26678</td>\n      <td>142008</td>\n    </tr>\n    <tr>\n      <th>1</th>\n      <td>1</td>\n      <td>Wi-Fi Smelly Socks Detector</td>\n      <td>Apr 2021</td>\n      <td>0.69</td>\n      <td>1816</td>\n      <td>25051</td>\n      <td>3374</td>\n      <td>14614</td>\n      <td>43039</td>\n    </tr>\n    <tr>\n      <th>2</th>\n      <td>1</td>\n      <td>Wi-Fi Smelly Socks Detector</td>\n      <td>Apr 2022</td>\n      <td>0.69</td>\n      <td>3856</td>\n      <td>62777</td>\n      <td>5411</td>\n      <td>23371</td>\n      <td>91559</td>\n    </tr>\n    <tr>\n      <th>3</th>\n      <td>1</td>\n      <td>Wi-Fi Smelly Socks Detector</td>\n      <td>Aug 2020</td>\n      <td>0.69</td>\n      <td>3003</td>\n      <td>52436</td>\n      <td>3824</td>\n      <td>19607</td>\n      <td>75867</td>\n    </tr>\n    <tr>\n      <th>4</th>\n      <td>1</td>\n      <td>Wi-Fi Smelly Socks Detector</td>\n      <td>Aug 2021</td>\n      <td>0.69</td>\n      <td>3255</td>\n      <td>53686</td>\n      <td>5784</td>\n      <td>22730</td>\n      <td>82200</td>\n    </tr>\n    <tr>\n      <th>...</th>\n      <td>...</td>\n      <td>...</td>\n      <td>...</td>\n      <td>...</td>\n      <td>...</td>\n      <td>...</td>\n      <td>...</td>\n      <td>...</td>\n      <td>...</td>\n    </tr>\n    <tr>\n      <th>355</th>\n      <td>10</td>\n      <td>CheeseStation</td>\n      <td>Oct 2021</td>\n      <td>0.97</td>\n      <td>238</td>\n      <td>6317</td>\n      <td>3370</td>\n      <td>2801</td>\n      <td>12488</td>\n    </tr>\n    <tr>\n      <th>356</th>\n      <td>10</td>\n      <td>CheeseStation</td>\n      <td>Oct 2022</td>\n      <td>0.97</td>\n      <td>251</td>\n      <td>6906</td>\n      <td>3455</td>\n      <td>2722</td>\n      <td>13083</td>\n    </tr>\n    <tr>\n      <th>357</th>\n      <td>10</td>\n      <td>CheeseStation</td>\n      <td>Sep 2020</td>\n      <td>0.97</td>\n      <td>372</td>\n      <td>8606</td>\n      <td>5913</td>\n      <td>4190</td>\n      <td>18709</td>\n    </tr>\n    <tr>\n      <th>358</th>\n      <td>10</td>\n      <td>CheeseStation</td>\n      <td>Sep 2021</td>\n      <td>0.97</td>\n      <td>427</td>\n      <td>9835</td>\n      <td>6996</td>\n      <td>5420</td>\n      <td>22251</td>\n    </tr>\n    <tr>\n      <th>359</th>\n      <td>10</td>\n      <td>CheeseStation</td>\n      <td>Sep 2022</td>\n      <td>0.97</td>\n      <td>154</td>\n      <td>3432</td>\n      <td>2508</td>\n      <td>1980</td>\n      <td>7920</td>\n    </tr>\n  </tbody>\n</table>\n<p>360 rows × 9 columns</p>\n</div>"
     },
     "execution_count": 10,
     "metadata": {},
     "output_type": "execute_result"
    }
   ],
   "source": [
    "# Gesamtkosten\n",
    "summary_df[\"Gesamtkosten\"] = summary_df[\"Arbeitskosten\"] + summary_df[\"Materialkosten\"] + summary_df[\"Sonstige Kosten\"]\n",
    "\n",
    "summary_df"
   ],
   "metadata": {
    "collapsed": false,
    "ExecuteTime": {
     "end_time": "2023-08-28T11:16:16.452697300Z",
     "start_time": "2023-08-28T11:16:16.335033Z"
    }
   },
   "id": "5d31ea5f11697ac0"
  },
  {
   "cell_type": "code",
   "execution_count": 11,
   "outputs": [
    {
     "data": {
      "text/plain": "     Produkttyp              Produkttyp Name Monat/Jahr  Zielgewinnspanne  \\\n0             1  Wi-Fi Smelly Socks Detector   Apr 2020              0.69   \n1             1  Wi-Fi Smelly Socks Detector   Apr 2021              0.69   \n2             1  Wi-Fi Smelly Socks Detector   Apr 2022              0.69   \n3             1  Wi-Fi Smelly Socks Detector   Aug 2020              0.69   \n4             1  Wi-Fi Smelly Socks Detector   Aug 2021              0.69   \n..          ...                          ...        ...               ...   \n355          10                CheeseStation   Oct 2021              0.97   \n356          10                CheeseStation   Oct 2022              0.97   \n357          10                CheeseStation   Sep 2020              0.97   \n358          10                CheeseStation   Sep 2021              0.97   \n359          10                CheeseStation   Sep 2022              0.97   \n\n     Produzierte Einheiten  Arbeitskosten  Materialkosten  Sonstige Kosten  \\\n0                     5420         108424            6906            26678   \n1                     1816          25051            3374            14614   \n2                     3856          62777            5411            23371   \n3                     3003          52436            3824            19607   \n4                     3255          53686            5784            22730   \n..                     ...            ...             ...              ...   \n355                    238           6317            3370             2801   \n356                    251           6906            3455             2722   \n357                    372           8606            5913             4190   \n358                    427           9835            6996             5420   \n359                    154           3432            2508             1980   \n\n     Gesamtkosten  Durchschnittliche Kosten pro Einheit  \n0          142008                                 26.20  \n1           43039                                 23.70  \n2           91559                                 23.74  \n3           75867                                 25.26  \n4           82200                                 25.25  \n..            ...                                   ...  \n355         12488                                 52.47  \n356         13083                                 52.12  \n357         18709                                 50.29  \n358         22251                                 52.11  \n359          7920                                 51.43  \n\n[360 rows x 10 columns]",
      "text/html": "<div>\n<style scoped>\n    .dataframe tbody tr th:only-of-type {\n        vertical-align: middle;\n    }\n\n    .dataframe tbody tr th {\n        vertical-align: top;\n    }\n\n    .dataframe thead th {\n        text-align: right;\n    }\n</style>\n<table border=\"1\" class=\"dataframe\">\n  <thead>\n    <tr style=\"text-align: right;\">\n      <th></th>\n      <th>Produkttyp</th>\n      <th>Produkttyp Name</th>\n      <th>Monat/Jahr</th>\n      <th>Zielgewinnspanne</th>\n      <th>Produzierte Einheiten</th>\n      <th>Arbeitskosten</th>\n      <th>Materialkosten</th>\n      <th>Sonstige Kosten</th>\n      <th>Gesamtkosten</th>\n      <th>Durchschnittliche Kosten pro Einheit</th>\n    </tr>\n  </thead>\n  <tbody>\n    <tr>\n      <th>0</th>\n      <td>1</td>\n      <td>Wi-Fi Smelly Socks Detector</td>\n      <td>Apr 2020</td>\n      <td>0.69</td>\n      <td>5420</td>\n      <td>108424</td>\n      <td>6906</td>\n      <td>26678</td>\n      <td>142008</td>\n      <td>26.20</td>\n    </tr>\n    <tr>\n      <th>1</th>\n      <td>1</td>\n      <td>Wi-Fi Smelly Socks Detector</td>\n      <td>Apr 2021</td>\n      <td>0.69</td>\n      <td>1816</td>\n      <td>25051</td>\n      <td>3374</td>\n      <td>14614</td>\n      <td>43039</td>\n      <td>23.70</td>\n    </tr>\n    <tr>\n      <th>2</th>\n      <td>1</td>\n      <td>Wi-Fi Smelly Socks Detector</td>\n      <td>Apr 2022</td>\n      <td>0.69</td>\n      <td>3856</td>\n      <td>62777</td>\n      <td>5411</td>\n      <td>23371</td>\n      <td>91559</td>\n      <td>23.74</td>\n    </tr>\n    <tr>\n      <th>3</th>\n      <td>1</td>\n      <td>Wi-Fi Smelly Socks Detector</td>\n      <td>Aug 2020</td>\n      <td>0.69</td>\n      <td>3003</td>\n      <td>52436</td>\n      <td>3824</td>\n      <td>19607</td>\n      <td>75867</td>\n      <td>25.26</td>\n    </tr>\n    <tr>\n      <th>4</th>\n      <td>1</td>\n      <td>Wi-Fi Smelly Socks Detector</td>\n      <td>Aug 2021</td>\n      <td>0.69</td>\n      <td>3255</td>\n      <td>53686</td>\n      <td>5784</td>\n      <td>22730</td>\n      <td>82200</td>\n      <td>25.25</td>\n    </tr>\n    <tr>\n      <th>...</th>\n      <td>...</td>\n      <td>...</td>\n      <td>...</td>\n      <td>...</td>\n      <td>...</td>\n      <td>...</td>\n      <td>...</td>\n      <td>...</td>\n      <td>...</td>\n      <td>...</td>\n    </tr>\n    <tr>\n      <th>355</th>\n      <td>10</td>\n      <td>CheeseStation</td>\n      <td>Oct 2021</td>\n      <td>0.97</td>\n      <td>238</td>\n      <td>6317</td>\n      <td>3370</td>\n      <td>2801</td>\n      <td>12488</td>\n      <td>52.47</td>\n    </tr>\n    <tr>\n      <th>356</th>\n      <td>10</td>\n      <td>CheeseStation</td>\n      <td>Oct 2022</td>\n      <td>0.97</td>\n      <td>251</td>\n      <td>6906</td>\n      <td>3455</td>\n      <td>2722</td>\n      <td>13083</td>\n      <td>52.12</td>\n    </tr>\n    <tr>\n      <th>357</th>\n      <td>10</td>\n      <td>CheeseStation</td>\n      <td>Sep 2020</td>\n      <td>0.97</td>\n      <td>372</td>\n      <td>8606</td>\n      <td>5913</td>\n      <td>4190</td>\n      <td>18709</td>\n      <td>50.29</td>\n    </tr>\n    <tr>\n      <th>358</th>\n      <td>10</td>\n      <td>CheeseStation</td>\n      <td>Sep 2021</td>\n      <td>0.97</td>\n      <td>427</td>\n      <td>9835</td>\n      <td>6996</td>\n      <td>5420</td>\n      <td>22251</td>\n      <td>52.11</td>\n    </tr>\n    <tr>\n      <th>359</th>\n      <td>10</td>\n      <td>CheeseStation</td>\n      <td>Sep 2022</td>\n      <td>0.97</td>\n      <td>154</td>\n      <td>3432</td>\n      <td>2508</td>\n      <td>1980</td>\n      <td>7920</td>\n      <td>51.43</td>\n    </tr>\n  </tbody>\n</table>\n<p>360 rows × 10 columns</p>\n</div>"
     },
     "execution_count": 11,
     "metadata": {},
     "output_type": "execute_result"
    }
   ],
   "source": [
    "# Durchschnittliche Kosten pro Einheit\n",
    "summary_df[\"Durchschnittliche Kosten pro Einheit\"] = summary_df[\"Gesamtkosten\"] / summary_df[\"Produzierte Einheiten\"]\n",
    "summary_df[\"Durchschnittliche Kosten pro Einheit\"] = summary_df[\"Durchschnittliche Kosten pro Einheit\"].round(2)\n",
    "\n",
    "summary_df"
   ],
   "metadata": {
    "collapsed": false,
    "ExecuteTime": {
     "end_time": "2023-08-28T11:16:40.239322600Z",
     "start_time": "2023-08-28T11:16:40.109867700Z"
    }
   },
   "id": "928fc8a2219ef2e2"
  },
  {
   "cell_type": "code",
   "execution_count": 12,
   "outputs": [
    {
     "data": {
      "text/plain": "     Produkttyp              Produkttyp Name Monat/Jahr  Zielgewinnspanne  \\\n0             1  Wi-Fi Smelly Socks Detector   Apr 2020              0.69   \n1             1  Wi-Fi Smelly Socks Detector   Apr 2021              0.69   \n2             1  Wi-Fi Smelly Socks Detector   Apr 2022              0.69   \n3             1  Wi-Fi Smelly Socks Detector   Aug 2020              0.69   \n4             1  Wi-Fi Smelly Socks Detector   Aug 2021              0.69   \n..          ...                          ...        ...               ...   \n355          10                CheeseStation   Oct 2021              0.97   \n356          10                CheeseStation   Oct 2022              0.97   \n357          10                CheeseStation   Sep 2020              0.97   \n358          10                CheeseStation   Sep 2021              0.97   \n359          10                CheeseStation   Sep 2022              0.97   \n\n     Produzierte Einheiten  Arbeitskosten  Materialkosten  Sonstige Kosten  \\\n0                     5420         108424            6906            26678   \n1                     1816          25051            3374            14614   \n2                     3856          62777            5411            23371   \n3                     3003          52436            3824            19607   \n4                     3255          53686            5784            22730   \n..                     ...            ...             ...              ...   \n355                    238           6317            3370             2801   \n356                    251           6906            3455             2722   \n357                    372           8606            5913             4190   \n358                    427           9835            6996             5420   \n359                    154           3432            2508             1980   \n\n     Gesamtkosten  Durchschnittliche Kosten pro Einheit  \\\n0          142008                                 26.20   \n1           43039                                 23.70   \n2           91559                                 23.74   \n3           75867                                 25.26   \n4           82200                                 25.25   \n..            ...                                   ...   \n355         12488                                 52.47   \n356         13083                                 52.12   \n357         18709                                 50.29   \n358         22251                                 52.11   \n359          7920                                 51.43   \n\n     Erforderlicher Verkaufspreis  \n0                       458090.32  \n1                       138835.48  \n2                       295351.61  \n3                       244732.26  \n4                       265161.29  \n..                            ...  \n355                     416266.67  \n356                     436100.00  \n357                     623633.33  \n358                     741700.00  \n359                     264000.00  \n\n[360 rows x 11 columns]",
      "text/html": "<div>\n<style scoped>\n    .dataframe tbody tr th:only-of-type {\n        vertical-align: middle;\n    }\n\n    .dataframe tbody tr th {\n        vertical-align: top;\n    }\n\n    .dataframe thead th {\n        text-align: right;\n    }\n</style>\n<table border=\"1\" class=\"dataframe\">\n  <thead>\n    <tr style=\"text-align: right;\">\n      <th></th>\n      <th>Produkttyp</th>\n      <th>Produkttyp Name</th>\n      <th>Monat/Jahr</th>\n      <th>Zielgewinnspanne</th>\n      <th>Produzierte Einheiten</th>\n      <th>Arbeitskosten</th>\n      <th>Materialkosten</th>\n      <th>Sonstige Kosten</th>\n      <th>Gesamtkosten</th>\n      <th>Durchschnittliche Kosten pro Einheit</th>\n      <th>Erforderlicher Verkaufspreis</th>\n    </tr>\n  </thead>\n  <tbody>\n    <tr>\n      <th>0</th>\n      <td>1</td>\n      <td>Wi-Fi Smelly Socks Detector</td>\n      <td>Apr 2020</td>\n      <td>0.69</td>\n      <td>5420</td>\n      <td>108424</td>\n      <td>6906</td>\n      <td>26678</td>\n      <td>142008</td>\n      <td>26.20</td>\n      <td>458090.32</td>\n    </tr>\n    <tr>\n      <th>1</th>\n      <td>1</td>\n      <td>Wi-Fi Smelly Socks Detector</td>\n      <td>Apr 2021</td>\n      <td>0.69</td>\n      <td>1816</td>\n      <td>25051</td>\n      <td>3374</td>\n      <td>14614</td>\n      <td>43039</td>\n      <td>23.70</td>\n      <td>138835.48</td>\n    </tr>\n    <tr>\n      <th>2</th>\n      <td>1</td>\n      <td>Wi-Fi Smelly Socks Detector</td>\n      <td>Apr 2022</td>\n      <td>0.69</td>\n      <td>3856</td>\n      <td>62777</td>\n      <td>5411</td>\n      <td>23371</td>\n      <td>91559</td>\n      <td>23.74</td>\n      <td>295351.61</td>\n    </tr>\n    <tr>\n      <th>3</th>\n      <td>1</td>\n      <td>Wi-Fi Smelly Socks Detector</td>\n      <td>Aug 2020</td>\n      <td>0.69</td>\n      <td>3003</td>\n      <td>52436</td>\n      <td>3824</td>\n      <td>19607</td>\n      <td>75867</td>\n      <td>25.26</td>\n      <td>244732.26</td>\n    </tr>\n    <tr>\n      <th>4</th>\n      <td>1</td>\n      <td>Wi-Fi Smelly Socks Detector</td>\n      <td>Aug 2021</td>\n      <td>0.69</td>\n      <td>3255</td>\n      <td>53686</td>\n      <td>5784</td>\n      <td>22730</td>\n      <td>82200</td>\n      <td>25.25</td>\n      <td>265161.29</td>\n    </tr>\n    <tr>\n      <th>...</th>\n      <td>...</td>\n      <td>...</td>\n      <td>...</td>\n      <td>...</td>\n      <td>...</td>\n      <td>...</td>\n      <td>...</td>\n      <td>...</td>\n      <td>...</td>\n      <td>...</td>\n      <td>...</td>\n    </tr>\n    <tr>\n      <th>355</th>\n      <td>10</td>\n      <td>CheeseStation</td>\n      <td>Oct 2021</td>\n      <td>0.97</td>\n      <td>238</td>\n      <td>6317</td>\n      <td>3370</td>\n      <td>2801</td>\n      <td>12488</td>\n      <td>52.47</td>\n      <td>416266.67</td>\n    </tr>\n    <tr>\n      <th>356</th>\n      <td>10</td>\n      <td>CheeseStation</td>\n      <td>Oct 2022</td>\n      <td>0.97</td>\n      <td>251</td>\n      <td>6906</td>\n      <td>3455</td>\n      <td>2722</td>\n      <td>13083</td>\n      <td>52.12</td>\n      <td>436100.00</td>\n    </tr>\n    <tr>\n      <th>357</th>\n      <td>10</td>\n      <td>CheeseStation</td>\n      <td>Sep 2020</td>\n      <td>0.97</td>\n      <td>372</td>\n      <td>8606</td>\n      <td>5913</td>\n      <td>4190</td>\n      <td>18709</td>\n      <td>50.29</td>\n      <td>623633.33</td>\n    </tr>\n    <tr>\n      <th>358</th>\n      <td>10</td>\n      <td>CheeseStation</td>\n      <td>Sep 2021</td>\n      <td>0.97</td>\n      <td>427</td>\n      <td>9835</td>\n      <td>6996</td>\n      <td>5420</td>\n      <td>22251</td>\n      <td>52.11</td>\n      <td>741700.00</td>\n    </tr>\n    <tr>\n      <th>359</th>\n      <td>10</td>\n      <td>CheeseStation</td>\n      <td>Sep 2022</td>\n      <td>0.97</td>\n      <td>154</td>\n      <td>3432</td>\n      <td>2508</td>\n      <td>1980</td>\n      <td>7920</td>\n      <td>51.43</td>\n      <td>264000.00</td>\n    </tr>\n  </tbody>\n</table>\n<p>360 rows × 11 columns</p>\n</div>"
     },
     "execution_count": 12,
     "metadata": {},
     "output_type": "execute_result"
    }
   ],
   "source": [
    "summary_df[\"Erforderlicher Verkaufspreis\"] = summary_df[\"Gesamtkosten\"] / (1 - summary_df[\"Zielgewinnspanne\"])\n",
    "summary_df[\"Erforderlicher Verkaufspreis\"] = summary_df[\"Erforderlicher Verkaufspreis\"].round(2)\n",
    "\n",
    "summary_df"
   ],
   "metadata": {
    "collapsed": false,
    "ExecuteTime": {
     "end_time": "2023-08-28T11:17:24.260651300Z",
     "start_time": "2023-08-28T11:17:24.122698100Z"
    }
   },
   "id": "2fdcb7682dbcd63e"
  },
  {
   "cell_type": "code",
   "execution_count": 19,
   "outputs": [
    {
     "data": {
      "text/plain": "     Produkttyp              Produkttyp Name Monat/Jahr  Zielgewinnspanne  \\\n0             1  Wi-Fi Smelly Socks Detector   Apr 2020              0.69   \n1             1  Wi-Fi Smelly Socks Detector   Apr 2021              0.69   \n2             1  Wi-Fi Smelly Socks Detector   Apr 2022              0.69   \n3             1  Wi-Fi Smelly Socks Detector   Aug 2020              0.69   \n4             1  Wi-Fi Smelly Socks Detector   Aug 2021              0.69   \n..          ...                          ...        ...               ...   \n355          10                CheeseStation   Oct 2021              0.97   \n356          10                CheeseStation   Oct 2022              0.97   \n357          10                CheeseStation   Sep 2020              0.97   \n358          10                CheeseStation   Sep 2021              0.97   \n359          10                CheeseStation   Sep 2022              0.97   \n\n     Produzierte Einheiten  Arbeitskosten  Materialkosten  Sonstige Kosten  \\\n0                     5420         108424            6906            26678   \n1                     1816          25051            3374            14614   \n2                     3856          62777            5411            23371   \n3                     3003          52436            3824            19607   \n4                     3255          53686            5784            22730   \n..                     ...            ...             ...              ...   \n355                    238           6317            3370             2801   \n356                    251           6906            3455             2722   \n357                    372           8606            5913             4190   \n358                    427           9835            6996             5420   \n359                    154           3432            2508             1980   \n\n     Gesamtkosten  Durchschnittliche Kosten pro Einheit  \\\n0          142008                                 26.20   \n1           43039                                 23.70   \n2           91559                                 23.74   \n3           75867                                 25.26   \n4           82200                                 25.25   \n..            ...                                   ...   \n355         12488                                 52.47   \n356         13083                                 52.12   \n357         18709                                 50.29   \n358         22251                                 52.11   \n359          7920                                 51.43   \n\n     Erforderlicher Verkaufspreis  Bruttogewinnspanne  \n0                       458090.32           316086.32  \n1                       138835.48            95796.28  \n2                       295351.61           203810.17  \n3                       244732.26           168876.48  \n4                       265161.29           182972.54  \n..                            ...                 ...  \n355                     416266.67           403778.81  \n356                     436100.00           423017.88  \n357                     623633.33           604925.45  \n358                     741700.00           719449.03  \n359                     264000.00           256079.78  \n\n[360 rows x 12 columns]",
      "text/html": "<div>\n<style scoped>\n    .dataframe tbody tr th:only-of-type {\n        vertical-align: middle;\n    }\n\n    .dataframe tbody tr th {\n        vertical-align: top;\n    }\n\n    .dataframe thead th {\n        text-align: right;\n    }\n</style>\n<table border=\"1\" class=\"dataframe\">\n  <thead>\n    <tr style=\"text-align: right;\">\n      <th></th>\n      <th>Produkttyp</th>\n      <th>Produkttyp Name</th>\n      <th>Monat/Jahr</th>\n      <th>Zielgewinnspanne</th>\n      <th>Produzierte Einheiten</th>\n      <th>Arbeitskosten</th>\n      <th>Materialkosten</th>\n      <th>Sonstige Kosten</th>\n      <th>Gesamtkosten</th>\n      <th>Durchschnittliche Kosten pro Einheit</th>\n      <th>Erforderlicher Verkaufspreis</th>\n      <th>Bruttogewinnspanne</th>\n    </tr>\n  </thead>\n  <tbody>\n    <tr>\n      <th>0</th>\n      <td>1</td>\n      <td>Wi-Fi Smelly Socks Detector</td>\n      <td>Apr 2020</td>\n      <td>0.69</td>\n      <td>5420</td>\n      <td>108424</td>\n      <td>6906</td>\n      <td>26678</td>\n      <td>142008</td>\n      <td>26.20</td>\n      <td>458090.32</td>\n      <td>316086.32</td>\n    </tr>\n    <tr>\n      <th>1</th>\n      <td>1</td>\n      <td>Wi-Fi Smelly Socks Detector</td>\n      <td>Apr 2021</td>\n      <td>0.69</td>\n      <td>1816</td>\n      <td>25051</td>\n      <td>3374</td>\n      <td>14614</td>\n      <td>43039</td>\n      <td>23.70</td>\n      <td>138835.48</td>\n      <td>95796.28</td>\n    </tr>\n    <tr>\n      <th>2</th>\n      <td>1</td>\n      <td>Wi-Fi Smelly Socks Detector</td>\n      <td>Apr 2022</td>\n      <td>0.69</td>\n      <td>3856</td>\n      <td>62777</td>\n      <td>5411</td>\n      <td>23371</td>\n      <td>91559</td>\n      <td>23.74</td>\n      <td>295351.61</td>\n      <td>203810.17</td>\n    </tr>\n    <tr>\n      <th>3</th>\n      <td>1</td>\n      <td>Wi-Fi Smelly Socks Detector</td>\n      <td>Aug 2020</td>\n      <td>0.69</td>\n      <td>3003</td>\n      <td>52436</td>\n      <td>3824</td>\n      <td>19607</td>\n      <td>75867</td>\n      <td>25.26</td>\n      <td>244732.26</td>\n      <td>168876.48</td>\n    </tr>\n    <tr>\n      <th>4</th>\n      <td>1</td>\n      <td>Wi-Fi Smelly Socks Detector</td>\n      <td>Aug 2021</td>\n      <td>0.69</td>\n      <td>3255</td>\n      <td>53686</td>\n      <td>5784</td>\n      <td>22730</td>\n      <td>82200</td>\n      <td>25.25</td>\n      <td>265161.29</td>\n      <td>182972.54</td>\n    </tr>\n    <tr>\n      <th>...</th>\n      <td>...</td>\n      <td>...</td>\n      <td>...</td>\n      <td>...</td>\n      <td>...</td>\n      <td>...</td>\n      <td>...</td>\n      <td>...</td>\n      <td>...</td>\n      <td>...</td>\n      <td>...</td>\n      <td>...</td>\n    </tr>\n    <tr>\n      <th>355</th>\n      <td>10</td>\n      <td>CheeseStation</td>\n      <td>Oct 2021</td>\n      <td>0.97</td>\n      <td>238</td>\n      <td>6317</td>\n      <td>3370</td>\n      <td>2801</td>\n      <td>12488</td>\n      <td>52.47</td>\n      <td>416266.67</td>\n      <td>403778.81</td>\n    </tr>\n    <tr>\n      <th>356</th>\n      <td>10</td>\n      <td>CheeseStation</td>\n      <td>Oct 2022</td>\n      <td>0.97</td>\n      <td>251</td>\n      <td>6906</td>\n      <td>3455</td>\n      <td>2722</td>\n      <td>13083</td>\n      <td>52.12</td>\n      <td>436100.00</td>\n      <td>423017.88</td>\n    </tr>\n    <tr>\n      <th>357</th>\n      <td>10</td>\n      <td>CheeseStation</td>\n      <td>Sep 2020</td>\n      <td>0.97</td>\n      <td>372</td>\n      <td>8606</td>\n      <td>5913</td>\n      <td>4190</td>\n      <td>18709</td>\n      <td>50.29</td>\n      <td>623633.33</td>\n      <td>604925.45</td>\n    </tr>\n    <tr>\n      <th>358</th>\n      <td>10</td>\n      <td>CheeseStation</td>\n      <td>Sep 2021</td>\n      <td>0.97</td>\n      <td>427</td>\n      <td>9835</td>\n      <td>6996</td>\n      <td>5420</td>\n      <td>22251</td>\n      <td>52.11</td>\n      <td>741700.00</td>\n      <td>719449.03</td>\n    </tr>\n    <tr>\n      <th>359</th>\n      <td>10</td>\n      <td>CheeseStation</td>\n      <td>Sep 2022</td>\n      <td>0.97</td>\n      <td>154</td>\n      <td>3432</td>\n      <td>2508</td>\n      <td>1980</td>\n      <td>7920</td>\n      <td>51.43</td>\n      <td>264000.00</td>\n      <td>256079.78</td>\n    </tr>\n  </tbody>\n</table>\n<p>360 rows × 12 columns</p>\n</div>"
     },
     "execution_count": 19,
     "metadata": {},
     "output_type": "execute_result"
    }
   ],
   "source": [
    "summary_df[\"Bruttogewinnspanne\"] = summary_df[\"Erforderlicher Verkaufspreis\"]-(summary_df[\"Produzierte Einheiten\"]*summary_df[\"Durchschnittliche Kosten pro Einheit\"])\n",
    "summary_df"
   ],
   "metadata": {
    "collapsed": false,
    "ExecuteTime": {
     "end_time": "2023-08-28T11:48:35.632443900Z",
     "start_time": "2023-08-28T11:48:35.457271Z"
    }
   },
   "id": "10d9f2d905ad4292"
  },
  {
   "cell_type": "code",
   "execution_count": 20,
   "outputs": [],
   "source": [
    "summary_df.to_excel(\"summary_gesamt1_5.xlsx\")"
   ],
   "metadata": {
    "collapsed": false,
    "ExecuteTime": {
     "end_time": "2023-08-28T11:51:04.189146200Z",
     "start_time": "2023-08-28T11:51:03.840818900Z"
    }
   },
   "id": "28167660f272ba5"
  },
  {
   "cell_type": "code",
   "execution_count": 1,
   "outputs": [
    {
     "ename": "NameError",
     "evalue": "name 'pd' is not defined",
     "output_type": "error",
     "traceback": [
      "\u001B[1;31m---------------------------------------------------------------------------\u001B[0m",
      "\u001B[1;31mNameError\u001B[0m                                 Traceback (most recent call last)",
      "Cell \u001B[1;32mIn[1], line 1\u001B[0m\n\u001B[1;32m----> 1\u001B[0m summary_df \u001B[38;5;241m=\u001B[39m \u001B[43mpd\u001B[49m\u001B[38;5;241m.\u001B[39mread_excel(\u001B[38;5;124m\"\u001B[39m\u001B[38;5;124msummary_gesamt1_5.xlsx\u001B[39m\u001B[38;5;124m\"\u001B[39m)\n\u001B[0;32m      3\u001B[0m \u001B[38;5;66;03m# DataFrame erstellen\u001B[39;00m\n\u001B[0;32m      4\u001B[0m df \u001B[38;5;241m=\u001B[39m summary_df\n",
      "\u001B[1;31mNameError\u001B[0m: name 'pd' is not defined"
     ]
    }
   ],
   "source": [
    "\n",
    "summary_df = pd.read_excel(\"summary_gesamt1_5.xlsx\")\n",
    "\n",
    "# DataFrame erstellen\n",
    "df = summary_df\n",
    "df['Monat/Jahr'] = pd.to_datetime(df['Monat/Jahr'], format='%b %Y')\n",
    "\n",
    "# Dash App erstellen\n",
    "app = dash.Dash(__name__)\n",
    "\n",
    "# Layout der App definieren\n",
    "app.layout = html.Div([\n",
    "    html.H1(\"Unternehmensgeschäftsbericht\"),\n",
    "    \n",
    "    dcc.Slider(\n",
    "        id='year-slider',\n",
    "        min=df['Monat/Jahr'].dt.year.min(),\n",
    "        max=df['Monat/Jahr'].dt.year.max(),\n",
    "        value=df['Monat/Jahr'].dt.year.max(),\n",
    "        marks={year: str(year) for year in df['Monat/Jahr'].dt.year.unique()},\n",
    "        step=1\n",
    "    ),\n",
    "    \n",
    "    dcc.Graph(id='sales-overview'),\n",
    "    dcc.Graph(id='product-performance'),\n",
    "    dcc.Graph(id='profit-margin')\n",
    "], style={'width': '80%', 'margin': 'auto'})\n",
    "\n",
    "# Callback-Funktionen für die Aktualisierung der Diagramme basierend auf dem Slider\n",
    "@app.callback(\n",
    "    [Output('sales-overview', 'figure'),\n",
    "     Output('product-performance', 'figure'),\n",
    "     Output('profit-margin', 'figure')],\n",
    "    [Input('year-slider', 'value')]\n",
    ")\n",
    "def update_figures(selected_year):\n",
    "    filtered_df = df[df['Monat/Jahr'].dt.year == selected_year]\n",
    "    \n",
    "    # Sales Overview (Bar Chart)\n",
    "    sales_fig = px.bar(\n",
    "        filtered_df,\n",
    "        x='Monat/Jahr',\n",
    "        y='Produzierte Einheiten',\n",
    "        title='Verkaufszahlen im Jahr {}'.format(selected_year),\n",
    "        labels={'Produzierte Einheiten': 'Verkaufte Einheiten'}\n",
    "    )\n",
    "    \n",
    "    # Product Performance (Bar Chart)\n",
    "    product_perf_fig = px.bar(\n",
    "        filtered_df,\n",
    "        x='Monat/Jahr',\n",
    "        y='Bruttogewinnspanne',\n",
    "        color='Produkttyp Name',\n",
    "        title='Bruttogewinnspanne pro Produkt im Jahr {}'.format(selected_year),\n",
    "        labels={'Bruttogewinnspanne': 'Bruttogewinnspanne (%)'}\n",
    "    )\n",
    "    \n",
    "    # Profit Margin (Bar Chart)\n",
    "    profit_margin_fig = px.bar(\n",
    "        filtered_df,\n",
    "        x='Monat/Jahr',\n",
    "        y='Bruttogewinnspanne',\n",
    "        title='Bruttogewinnspanne Entwicklung im Jahr {}'.format(selected_year),\n",
    "        labels={'Bruttogewinnspanne': 'Bruttogewinnspanne (%)'}\n",
    "    )\n",
    "    \n",
    "    return sales_fig, product_perf_fig, profit_margin_fig\n",
    "\n",
    "# App starten\n",
    "if __name__ == '__main__':\n",
    "    app.run_server(debug=True)"
   ],
   "metadata": {
    "collapsed": false,
    "ExecuteTime": {
     "end_time": "2023-08-29T06:00:44.033343600Z",
     "start_time": "2023-08-29T06:00:42.683147900Z"
    }
   },
   "id": "b1a856700ee70c7d"
  },
  {
   "cell_type": "code",
   "execution_count": 23,
   "outputs": [],
   "source": [],
   "metadata": {
    "collapsed": false,
    "ExecuteTime": {
     "end_time": "2023-08-28T13:40:38.302771100Z",
     "start_time": "2023-08-28T13:40:38.218752600Z"
    }
   },
   "id": "3728545c19bd606e"
  },
  {
   "cell_type": "code",
   "execution_count": 23,
   "outputs": [],
   "source": [],
   "metadata": {
    "collapsed": false,
    "ExecuteTime": {
     "end_time": "2023-08-28T13:41:04.273510700Z",
     "start_time": "2023-08-28T13:41:04.202994300Z"
    }
   },
   "id": "826bc99e0955046f"
  }
 ],
 "metadata": {
  "kernelspec": {
   "display_name": "Python 3",
   "language": "python",
   "name": "python3"
  },
  "language_info": {
   "codemirror_mode": {
    "name": "ipython",
    "version": 2
   },
   "file_extension": ".py",
   "mimetype": "text/x-python",
   "name": "python",
   "nbconvert_exporter": "python",
   "pygments_lexer": "ipython2",
   "version": "2.7.6"
  }
 },
 "nbformat": 4,
 "nbformat_minor": 5
}
