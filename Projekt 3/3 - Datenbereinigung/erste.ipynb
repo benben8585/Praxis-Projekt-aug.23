{
 "cells": [
  {
   "cell_type": "code",
   "execution_count": 62,
   "id": "639118d6",
   "metadata": {
    "ExecuteTime": {
     "end_time": "2023-08-28T08:24:34.455899800Z",
     "start_time": "2023-08-28T08:24:34.371839100Z"
    }
   },
   "outputs": [],
   "source": [
    "import pandas as pd"
   ]
  },
  {
   "cell_type": "code",
   "execution_count": 63,
   "outputs": [
    {
     "data": {
      "text/plain": "     Produktionsdatum  Produkttyp  Produzierte Einheiten  Arbeitskosten  \\\n0          2021-09-18          10                     27            675   \n1          2020-05-01           3                    649          14927   \n2          2021-11-15           1                    230           5290   \n3          2021-08-04           7                    882          17640   \n4          2021-01-08           6                    205           3485   \n...               ...         ...                    ...            ...   \n1087       2022-06-12           1                    116           1740   \n1088       2022-11-20           6                    326           5216   \n1089       2020-12-24           7                    797          14346   \n1090       2022-12-09           8                     46           1518   \n1091       2022-12-03           9                     10            390   \n\n      Materialkosten  Sonstige Kosten  \n0                297              378  \n1                649             2596  \n2                230             1150  \n3                882             6174  \n4                410             1025  \n...              ...              ...  \n1087             232              464  \n1088             652              978  \n1089             797             3985  \n1090             874              460  \n1091             130              100  \n\n[1092 rows x 6 columns]",
      "text/html": "<div>\n<style scoped>\n    .dataframe tbody tr th:only-of-type {\n        vertical-align: middle;\n    }\n\n    .dataframe tbody tr th {\n        vertical-align: top;\n    }\n\n    .dataframe thead th {\n        text-align: right;\n    }\n</style>\n<table border=\"1\" class=\"dataframe\">\n  <thead>\n    <tr style=\"text-align: right;\">\n      <th></th>\n      <th>Produktionsdatum</th>\n      <th>Produkttyp</th>\n      <th>Produzierte Einheiten</th>\n      <th>Arbeitskosten</th>\n      <th>Materialkosten</th>\n      <th>Sonstige Kosten</th>\n    </tr>\n  </thead>\n  <tbody>\n    <tr>\n      <th>0</th>\n      <td>2021-09-18</td>\n      <td>10</td>\n      <td>27</td>\n      <td>675</td>\n      <td>297</td>\n      <td>378</td>\n    </tr>\n    <tr>\n      <th>1</th>\n      <td>2020-05-01</td>\n      <td>3</td>\n      <td>649</td>\n      <td>14927</td>\n      <td>649</td>\n      <td>2596</td>\n    </tr>\n    <tr>\n      <th>2</th>\n      <td>2021-11-15</td>\n      <td>1</td>\n      <td>230</td>\n      <td>5290</td>\n      <td>230</td>\n      <td>1150</td>\n    </tr>\n    <tr>\n      <th>3</th>\n      <td>2021-08-04</td>\n      <td>7</td>\n      <td>882</td>\n      <td>17640</td>\n      <td>882</td>\n      <td>6174</td>\n    </tr>\n    <tr>\n      <th>4</th>\n      <td>2021-01-08</td>\n      <td>6</td>\n      <td>205</td>\n      <td>3485</td>\n      <td>410</td>\n      <td>1025</td>\n    </tr>\n    <tr>\n      <th>...</th>\n      <td>...</td>\n      <td>...</td>\n      <td>...</td>\n      <td>...</td>\n      <td>...</td>\n      <td>...</td>\n    </tr>\n    <tr>\n      <th>1087</th>\n      <td>2022-06-12</td>\n      <td>1</td>\n      <td>116</td>\n      <td>1740</td>\n      <td>232</td>\n      <td>464</td>\n    </tr>\n    <tr>\n      <th>1088</th>\n      <td>2022-11-20</td>\n      <td>6</td>\n      <td>326</td>\n      <td>5216</td>\n      <td>652</td>\n      <td>978</td>\n    </tr>\n    <tr>\n      <th>1089</th>\n      <td>2020-12-24</td>\n      <td>7</td>\n      <td>797</td>\n      <td>14346</td>\n      <td>797</td>\n      <td>3985</td>\n    </tr>\n    <tr>\n      <th>1090</th>\n      <td>2022-12-09</td>\n      <td>8</td>\n      <td>46</td>\n      <td>1518</td>\n      <td>874</td>\n      <td>460</td>\n    </tr>\n    <tr>\n      <th>1091</th>\n      <td>2022-12-03</td>\n      <td>9</td>\n      <td>10</td>\n      <td>390</td>\n      <td>130</td>\n      <td>100</td>\n    </tr>\n  </tbody>\n</table>\n<p>1092 rows × 6 columns</p>\n</div>"
     },
     "execution_count": 63,
     "metadata": {},
     "output_type": "execute_result"
    }
   ],
   "source": [
    "df_fabrik1 = pd.read_excel(\"Praxisaufgabe - Fabriken.xlsx\", sheet_name=\"Fabrik 1\")\n",
    "del df_fabrik1[\"Unnamed: 0\"]\n",
    "df_fabrik1.rename(columns={\"Overhead\": \"Sonstige Kosten\"}, inplace=True)  \n",
    "df_fabrik1 "
   ],
   "metadata": {
    "collapsed": false,
    "ExecuteTime": {
     "end_time": "2023-08-28T08:24:37.007006700Z",
     "start_time": "2023-08-28T08:24:36.701778Z"
    }
   },
   "id": "71dcffe465eb1bc9"
  },
  {
   "cell_type": "code",
   "execution_count": 73,
   "outputs": [
    {
     "data": {
      "text/plain": "               Unnamed: 0  Unnamed: 1             Unnamed: 2     Unnamed: 3  \\\n0        Produktionsdatum  Produkttyp  Produzierte Einheiten  Arbeitskosten   \n1     2021-02-01 00:00:00           7                    697          11152   \n2     2021-05-03 00:00:00           8                     62           1116   \n3     2020-08-22 00:00:00           3                    169           2535   \n4     2022-07-27 00:00:00           4                    465           8370   \n...                   ...         ...                    ...            ...   \n1438  2021-08-08 00:00:00           5                    706           7060   \n1439  2022-08-14 00:00:00           7                    163           2934   \n1440  2022-10-03 00:00:00           6                    636          10812   \n1441  2022-11-11 00:00:00           5                    625           8125   \n1442  2022-09-30 00:00:00           8                     45            675   \n\n          Unnamed: 4     Unnamed: 5  \n0     Materialkosten  Energiekosten  \n1               1394           6273  \n2                744            682  \n3                169           1521  \n4                465           3720  \n...              ...            ...  \n1438            1412           2824  \n1439             163           1304  \n1440             636           4452  \n1441            1250           3750  \n1442            1035            495  \n\n[1443 rows x 6 columns]",
      "text/html": "<div>\n<style scoped>\n    .dataframe tbody tr th:only-of-type {\n        vertical-align: middle;\n    }\n\n    .dataframe tbody tr th {\n        vertical-align: top;\n    }\n\n    .dataframe thead th {\n        text-align: right;\n    }\n</style>\n<table border=\"1\" class=\"dataframe\">\n  <thead>\n    <tr style=\"text-align: right;\">\n      <th></th>\n      <th>Unnamed: 0</th>\n      <th>Unnamed: 1</th>\n      <th>Unnamed: 2</th>\n      <th>Unnamed: 3</th>\n      <th>Unnamed: 4</th>\n      <th>Unnamed: 5</th>\n    </tr>\n  </thead>\n  <tbody>\n    <tr>\n      <th>0</th>\n      <td>Produktionsdatum</td>\n      <td>Produkttyp</td>\n      <td>Produzierte Einheiten</td>\n      <td>Arbeitskosten</td>\n      <td>Materialkosten</td>\n      <td>Energiekosten</td>\n    </tr>\n    <tr>\n      <th>1</th>\n      <td>2021-02-01 00:00:00</td>\n      <td>7</td>\n      <td>697</td>\n      <td>11152</td>\n      <td>1394</td>\n      <td>6273</td>\n    </tr>\n    <tr>\n      <th>2</th>\n      <td>2021-05-03 00:00:00</td>\n      <td>8</td>\n      <td>62</td>\n      <td>1116</td>\n      <td>744</td>\n      <td>682</td>\n    </tr>\n    <tr>\n      <th>3</th>\n      <td>2020-08-22 00:00:00</td>\n      <td>3</td>\n      <td>169</td>\n      <td>2535</td>\n      <td>169</td>\n      <td>1521</td>\n    </tr>\n    <tr>\n      <th>4</th>\n      <td>2022-07-27 00:00:00</td>\n      <td>4</td>\n      <td>465</td>\n      <td>8370</td>\n      <td>465</td>\n      <td>3720</td>\n    </tr>\n    <tr>\n      <th>...</th>\n      <td>...</td>\n      <td>...</td>\n      <td>...</td>\n      <td>...</td>\n      <td>...</td>\n      <td>...</td>\n    </tr>\n    <tr>\n      <th>1438</th>\n      <td>2021-08-08 00:00:00</td>\n      <td>5</td>\n      <td>706</td>\n      <td>7060</td>\n      <td>1412</td>\n      <td>2824</td>\n    </tr>\n    <tr>\n      <th>1439</th>\n      <td>2022-08-14 00:00:00</td>\n      <td>7</td>\n      <td>163</td>\n      <td>2934</td>\n      <td>163</td>\n      <td>1304</td>\n    </tr>\n    <tr>\n      <th>1440</th>\n      <td>2022-10-03 00:00:00</td>\n      <td>6</td>\n      <td>636</td>\n      <td>10812</td>\n      <td>636</td>\n      <td>4452</td>\n    </tr>\n    <tr>\n      <th>1441</th>\n      <td>2022-11-11 00:00:00</td>\n      <td>5</td>\n      <td>625</td>\n      <td>8125</td>\n      <td>1250</td>\n      <td>3750</td>\n    </tr>\n    <tr>\n      <th>1442</th>\n      <td>2022-09-30 00:00:00</td>\n      <td>8</td>\n      <td>45</td>\n      <td>675</td>\n      <td>1035</td>\n      <td>495</td>\n    </tr>\n  </tbody>\n</table>\n<p>1443 rows × 6 columns</p>\n</div>"
     },
     "execution_count": 73,
     "metadata": {},
     "output_type": "execute_result"
    }
   ],
   "source": [
    "df_fabrik2 = pd.read_excel(\"Praxisaufgabe - Fabriken.xlsx\", sheet_name=\"Fabrik 2\")\n",
    "df_fabrik2"
   ],
   "metadata": {
    "collapsed": false,
    "ExecuteTime": {
     "end_time": "2023-08-28T08:26:45.795778200Z",
     "start_time": "2023-08-28T08:26:45.365348300Z"
    }
   },
   "id": "adb881e7a1c87d3b"
  },
  {
   "cell_type": "code",
   "execution_count": 74,
   "outputs": [
    {
     "data": {
      "text/plain": "0        Produktionsdatum Produkttyp Produzierte Einheiten Arbeitskosten  \\\n1     2021-02-01 00:00:00          7                   697         11152   \n2     2021-05-03 00:00:00          8                    62          1116   \n3     2020-08-22 00:00:00          3                   169          2535   \n4     2022-07-27 00:00:00          4                   465          8370   \n5     2022-08-02 00:00:00         10                    79          1185   \n...                   ...        ...                   ...           ...   \n1438  2021-08-08 00:00:00          5                   706          7060   \n1439  2022-08-14 00:00:00          7                   163          2934   \n1440  2022-10-03 00:00:00          6                   636         10812   \n1441  2022-11-11 00:00:00          5                   625          8125   \n1442  2022-09-30 00:00:00          8                    45           675   \n\n0    Materialkosten Energiekosten  \n1              1394          6273  \n2               744           682  \n3               169          1521  \n4               465          3720  \n5              1343           790  \n...             ...           ...  \n1438           1412          2824  \n1439            163          1304  \n1440            636          4452  \n1441           1250          3750  \n1442           1035           495  \n\n[1442 rows x 6 columns]",
      "text/html": "<div>\n<style scoped>\n    .dataframe tbody tr th:only-of-type {\n        vertical-align: middle;\n    }\n\n    .dataframe tbody tr th {\n        vertical-align: top;\n    }\n\n    .dataframe thead th {\n        text-align: right;\n    }\n</style>\n<table border=\"1\" class=\"dataframe\">\n  <thead>\n    <tr style=\"text-align: right;\">\n      <th></th>\n      <th>Produktionsdatum</th>\n      <th>Produkttyp</th>\n      <th>Produzierte Einheiten</th>\n      <th>Arbeitskosten</th>\n      <th>Materialkosten</th>\n      <th>Energiekosten</th>\n    </tr>\n  </thead>\n  <tbody>\n    <tr>\n      <th>1</th>\n      <td>2021-02-01 00:00:00</td>\n      <td>7</td>\n      <td>697</td>\n      <td>11152</td>\n      <td>1394</td>\n      <td>6273</td>\n    </tr>\n    <tr>\n      <th>2</th>\n      <td>2021-05-03 00:00:00</td>\n      <td>8</td>\n      <td>62</td>\n      <td>1116</td>\n      <td>744</td>\n      <td>682</td>\n    </tr>\n    <tr>\n      <th>3</th>\n      <td>2020-08-22 00:00:00</td>\n      <td>3</td>\n      <td>169</td>\n      <td>2535</td>\n      <td>169</td>\n      <td>1521</td>\n    </tr>\n    <tr>\n      <th>4</th>\n      <td>2022-07-27 00:00:00</td>\n      <td>4</td>\n      <td>465</td>\n      <td>8370</td>\n      <td>465</td>\n      <td>3720</td>\n    </tr>\n    <tr>\n      <th>5</th>\n      <td>2022-08-02 00:00:00</td>\n      <td>10</td>\n      <td>79</td>\n      <td>1185</td>\n      <td>1343</td>\n      <td>790</td>\n    </tr>\n    <tr>\n      <th>...</th>\n      <td>...</td>\n      <td>...</td>\n      <td>...</td>\n      <td>...</td>\n      <td>...</td>\n      <td>...</td>\n    </tr>\n    <tr>\n      <th>1438</th>\n      <td>2021-08-08 00:00:00</td>\n      <td>5</td>\n      <td>706</td>\n      <td>7060</td>\n      <td>1412</td>\n      <td>2824</td>\n    </tr>\n    <tr>\n      <th>1439</th>\n      <td>2022-08-14 00:00:00</td>\n      <td>7</td>\n      <td>163</td>\n      <td>2934</td>\n      <td>163</td>\n      <td>1304</td>\n    </tr>\n    <tr>\n      <th>1440</th>\n      <td>2022-10-03 00:00:00</td>\n      <td>6</td>\n      <td>636</td>\n      <td>10812</td>\n      <td>636</td>\n      <td>4452</td>\n    </tr>\n    <tr>\n      <th>1441</th>\n      <td>2022-11-11 00:00:00</td>\n      <td>5</td>\n      <td>625</td>\n      <td>8125</td>\n      <td>1250</td>\n      <td>3750</td>\n    </tr>\n    <tr>\n      <th>1442</th>\n      <td>2022-09-30 00:00:00</td>\n      <td>8</td>\n      <td>45</td>\n      <td>675</td>\n      <td>1035</td>\n      <td>495</td>\n    </tr>\n  </tbody>\n</table>\n<p>1442 rows × 6 columns</p>\n</div>"
     },
     "execution_count": 74,
     "metadata": {},
     "output_type": "execute_result"
    }
   ],
   "source": [
    "new_header = df_fabrik2.iloc[0]  # Extrahiere die erste Zeile als Spaltenüberschriften\n",
    "df_header = df_fabrik2[1:]  # Entferne die erste Zeile aus dem DataFrame\n",
    "df_header.columns = new_header  # Setze die extrahierten Spaltenüberschriften\n",
    "df_header"
   ],
   "metadata": {
    "collapsed": false,
    "ExecuteTime": {
     "end_time": "2023-08-28T08:26:50.783054Z",
     "start_time": "2023-08-28T08:26:50.639665800Z"
    }
   },
   "id": "1c996599d8201aa2"
  },
  {
   "cell_type": "code",
   "execution_count": 76,
   "outputs": [
    {
     "name": "stderr",
     "output_type": "stream",
     "text": [
      "C:\\Users\\bbind\\AppData\\Local\\Temp\\ipykernel_15564\\3829380325.py:2: SettingWithCopyWarning: \n",
      "A value is trying to be set on a copy of a slice from a DataFrame\n",
      "\n",
      "See the caveats in the documentation: https://pandas.pydata.org/pandas-docs/stable/user_guide/indexing.html#returning-a-view-versus-a-copy\n",
      "  df_fabrik_2.rename(columns={\"Energiekosten\": \"Sonstige Kosten\"}, inplace=True)\n"
     ]
    }
   ],
   "source": [
    "df_fabrik_2 = df_header\n",
    "df_fabrik_2.rename(columns={\"Energiekosten\": \"Sonstige Kosten\"}, inplace=True)  "
   ],
   "metadata": {
    "collapsed": false,
    "ExecuteTime": {
     "end_time": "2023-08-28T08:27:09.331480Z",
     "start_time": "2023-08-28T08:27:09.268516300Z"
    }
   },
   "id": "a6128a62dfc14a84"
  },
  {
   "cell_type": "code",
   "execution_count": 77,
   "outputs": [
    {
     "data": {
      "text/plain": "0        Produktionsdatum Produkttyp Produzierte Einheiten Arbeitskosten  \\\n1     2021-02-01 00:00:00          7                   697         11152   \n2     2021-05-03 00:00:00          8                    62          1116   \n3     2020-08-22 00:00:00          3                   169          2535   \n4     2022-07-27 00:00:00          4                   465          8370   \n5     2022-08-02 00:00:00         10                    79          1185   \n...                   ...        ...                   ...           ...   \n1438  2021-08-08 00:00:00          5                   706          7060   \n1439  2022-08-14 00:00:00          7                   163          2934   \n1440  2022-10-03 00:00:00          6                   636         10812   \n1441  2022-11-11 00:00:00          5                   625          8125   \n1442  2022-09-30 00:00:00          8                    45           675   \n\n0    Materialkosten Sonstige Kosten  \n1              1394            6273  \n2               744             682  \n3               169            1521  \n4               465            3720  \n5              1343             790  \n...             ...             ...  \n1438           1412            2824  \n1439            163            1304  \n1440            636            4452  \n1441           1250            3750  \n1442           1035             495  \n\n[1442 rows x 6 columns]",
      "text/html": "<div>\n<style scoped>\n    .dataframe tbody tr th:only-of-type {\n        vertical-align: middle;\n    }\n\n    .dataframe tbody tr th {\n        vertical-align: top;\n    }\n\n    .dataframe thead th {\n        text-align: right;\n    }\n</style>\n<table border=\"1\" class=\"dataframe\">\n  <thead>\n    <tr style=\"text-align: right;\">\n      <th></th>\n      <th>Produktionsdatum</th>\n      <th>Produkttyp</th>\n      <th>Produzierte Einheiten</th>\n      <th>Arbeitskosten</th>\n      <th>Materialkosten</th>\n      <th>Sonstige Kosten</th>\n    </tr>\n  </thead>\n  <tbody>\n    <tr>\n      <th>1</th>\n      <td>2021-02-01 00:00:00</td>\n      <td>7</td>\n      <td>697</td>\n      <td>11152</td>\n      <td>1394</td>\n      <td>6273</td>\n    </tr>\n    <tr>\n      <th>2</th>\n      <td>2021-05-03 00:00:00</td>\n      <td>8</td>\n      <td>62</td>\n      <td>1116</td>\n      <td>744</td>\n      <td>682</td>\n    </tr>\n    <tr>\n      <th>3</th>\n      <td>2020-08-22 00:00:00</td>\n      <td>3</td>\n      <td>169</td>\n      <td>2535</td>\n      <td>169</td>\n      <td>1521</td>\n    </tr>\n    <tr>\n      <th>4</th>\n      <td>2022-07-27 00:00:00</td>\n      <td>4</td>\n      <td>465</td>\n      <td>8370</td>\n      <td>465</td>\n      <td>3720</td>\n    </tr>\n    <tr>\n      <th>5</th>\n      <td>2022-08-02 00:00:00</td>\n      <td>10</td>\n      <td>79</td>\n      <td>1185</td>\n      <td>1343</td>\n      <td>790</td>\n    </tr>\n    <tr>\n      <th>...</th>\n      <td>...</td>\n      <td>...</td>\n      <td>...</td>\n      <td>...</td>\n      <td>...</td>\n      <td>...</td>\n    </tr>\n    <tr>\n      <th>1438</th>\n      <td>2021-08-08 00:00:00</td>\n      <td>5</td>\n      <td>706</td>\n      <td>7060</td>\n      <td>1412</td>\n      <td>2824</td>\n    </tr>\n    <tr>\n      <th>1439</th>\n      <td>2022-08-14 00:00:00</td>\n      <td>7</td>\n      <td>163</td>\n      <td>2934</td>\n      <td>163</td>\n      <td>1304</td>\n    </tr>\n    <tr>\n      <th>1440</th>\n      <td>2022-10-03 00:00:00</td>\n      <td>6</td>\n      <td>636</td>\n      <td>10812</td>\n      <td>636</td>\n      <td>4452</td>\n    </tr>\n    <tr>\n      <th>1441</th>\n      <td>2022-11-11 00:00:00</td>\n      <td>5</td>\n      <td>625</td>\n      <td>8125</td>\n      <td>1250</td>\n      <td>3750</td>\n    </tr>\n    <tr>\n      <th>1442</th>\n      <td>2022-09-30 00:00:00</td>\n      <td>8</td>\n      <td>45</td>\n      <td>675</td>\n      <td>1035</td>\n      <td>495</td>\n    </tr>\n  </tbody>\n</table>\n<p>1442 rows × 6 columns</p>\n</div>"
     },
     "execution_count": 77,
     "metadata": {},
     "output_type": "execute_result"
    }
   ],
   "source": [
    "df_fabrik_2"
   ],
   "metadata": {
    "collapsed": false,
    "ExecuteTime": {
     "end_time": "2023-08-28T08:27:11.642800800Z",
     "start_time": "2023-08-28T08:27:11.505699900Z"
    }
   },
   "id": "fa760fe8d5d64a54"
  },
  {
   "cell_type": "code",
   "execution_count": 86,
   "outputs": [
    {
     "name": "stderr",
     "output_type": "stream",
     "text": [
      "C:\\Users\\bbind\\AppData\\Local\\Temp\\ipykernel_15564\\1771673654.py:4: SettingWithCopyWarning: \n",
      "A value is trying to be set on a copy of a slice from a DataFrame.\n",
      "Try using .loc[row_indexer,col_indexer] = value instead\n",
      "\n",
      "See the caveats in the documentation: https://pandas.pydata.org/pandas-docs/stable/user_guide/indexing.html#returning-a-view-versus-a-copy\n",
      "  df_fabrik_2['Fabrik'] = 'Fabrik 2'\n"
     ]
    },
    {
     "data": {
      "text/plain": "         Produktionsdatum Produkttyp Produzierte Einheiten Arbeitskosten  \\\n0     2021-09-18 00:00:00         10                    27           675   \n1     2020-05-01 00:00:00          3                   649         14927   \n2     2021-11-15 00:00:00          1                   230          5290   \n3     2021-08-04 00:00:00          7                   882         17640   \n4     2021-01-08 00:00:00          6                   205          3485   \n...                   ...        ...                   ...           ...   \n2529  2021-08-08 00:00:00          5                   706          7060   \n2530  2022-08-14 00:00:00          7                   163          2934   \n2531  2022-10-03 00:00:00          6                   636         10812   \n2532  2022-11-11 00:00:00          5                   625          8125   \n2533  2022-09-30 00:00:00          8                    45           675   \n\n     Materialkosten Sonstige Kosten    Fabrik  \n0               297             378  Fabrik 1  \n1               649            2596  Fabrik 1  \n2               230            1150  Fabrik 1  \n3               882            6174  Fabrik 1  \n4               410            1025  Fabrik 1  \n...             ...             ...       ...  \n2529           1412            2824  Fabrik 2  \n2530            163            1304  Fabrik 2  \n2531            636            4452  Fabrik 2  \n2532           1250            3750  Fabrik 2  \n2533           1035             495  Fabrik 2  \n\n[2534 rows x 7 columns]",
      "text/html": "<div>\n<style scoped>\n    .dataframe tbody tr th:only-of-type {\n        vertical-align: middle;\n    }\n\n    .dataframe tbody tr th {\n        vertical-align: top;\n    }\n\n    .dataframe thead th {\n        text-align: right;\n    }\n</style>\n<table border=\"1\" class=\"dataframe\">\n  <thead>\n    <tr style=\"text-align: right;\">\n      <th></th>\n      <th>Produktionsdatum</th>\n      <th>Produkttyp</th>\n      <th>Produzierte Einheiten</th>\n      <th>Arbeitskosten</th>\n      <th>Materialkosten</th>\n      <th>Sonstige Kosten</th>\n      <th>Fabrik</th>\n    </tr>\n  </thead>\n  <tbody>\n    <tr>\n      <th>0</th>\n      <td>2021-09-18 00:00:00</td>\n      <td>10</td>\n      <td>27</td>\n      <td>675</td>\n      <td>297</td>\n      <td>378</td>\n      <td>Fabrik 1</td>\n    </tr>\n    <tr>\n      <th>1</th>\n      <td>2020-05-01 00:00:00</td>\n      <td>3</td>\n      <td>649</td>\n      <td>14927</td>\n      <td>649</td>\n      <td>2596</td>\n      <td>Fabrik 1</td>\n    </tr>\n    <tr>\n      <th>2</th>\n      <td>2021-11-15 00:00:00</td>\n      <td>1</td>\n      <td>230</td>\n      <td>5290</td>\n      <td>230</td>\n      <td>1150</td>\n      <td>Fabrik 1</td>\n    </tr>\n    <tr>\n      <th>3</th>\n      <td>2021-08-04 00:00:00</td>\n      <td>7</td>\n      <td>882</td>\n      <td>17640</td>\n      <td>882</td>\n      <td>6174</td>\n      <td>Fabrik 1</td>\n    </tr>\n    <tr>\n      <th>4</th>\n      <td>2021-01-08 00:00:00</td>\n      <td>6</td>\n      <td>205</td>\n      <td>3485</td>\n      <td>410</td>\n      <td>1025</td>\n      <td>Fabrik 1</td>\n    </tr>\n    <tr>\n      <th>...</th>\n      <td>...</td>\n      <td>...</td>\n      <td>...</td>\n      <td>...</td>\n      <td>...</td>\n      <td>...</td>\n      <td>...</td>\n    </tr>\n    <tr>\n      <th>2529</th>\n      <td>2021-08-08 00:00:00</td>\n      <td>5</td>\n      <td>706</td>\n      <td>7060</td>\n      <td>1412</td>\n      <td>2824</td>\n      <td>Fabrik 2</td>\n    </tr>\n    <tr>\n      <th>2530</th>\n      <td>2022-08-14 00:00:00</td>\n      <td>7</td>\n      <td>163</td>\n      <td>2934</td>\n      <td>163</td>\n      <td>1304</td>\n      <td>Fabrik 2</td>\n    </tr>\n    <tr>\n      <th>2531</th>\n      <td>2022-10-03 00:00:00</td>\n      <td>6</td>\n      <td>636</td>\n      <td>10812</td>\n      <td>636</td>\n      <td>4452</td>\n      <td>Fabrik 2</td>\n    </tr>\n    <tr>\n      <th>2532</th>\n      <td>2022-11-11 00:00:00</td>\n      <td>5</td>\n      <td>625</td>\n      <td>8125</td>\n      <td>1250</td>\n      <td>3750</td>\n      <td>Fabrik 2</td>\n    </tr>\n    <tr>\n      <th>2533</th>\n      <td>2022-09-30 00:00:00</td>\n      <td>8</td>\n      <td>45</td>\n      <td>675</td>\n      <td>1035</td>\n      <td>495</td>\n      <td>Fabrik 2</td>\n    </tr>\n  </tbody>\n</table>\n<p>2534 rows × 7 columns</p>\n</div>"
     },
     "execution_count": 86,
     "metadata": {},
     "output_type": "execute_result"
    }
   ],
   "source": [
    "# Zusammenführen beider DataFrames\n",
    "\n",
    "df_fabrik1['Fabrik'] = 'Fabrik 1'\n",
    "df_fabrik_2['Fabrik'] = 'Fabrik 2'\n",
    "\n",
    "merged_df = pd.concat([df_fabrik1, df_fabrik_2], ignore_index=True)\n",
    "\n",
    "merged_df"
   ],
   "metadata": {
    "collapsed": false,
    "ExecuteTime": {
     "end_time": "2023-08-28T08:43:29.121922500Z",
     "start_time": "2023-08-28T08:43:28.973755400Z"
    }
   },
   "id": "5b6753e2be591860"
  },
  {
   "cell_type": "code",
   "execution_count": 87,
   "outputs": [],
   "source": [
    "merged_df.to_excel(\"fabrik_merge.xlsx\")"
   ],
   "metadata": {
    "collapsed": false,
    "ExecuteTime": {
     "end_time": "2023-08-28T08:45:15.313891Z",
     "start_time": "2023-08-28T08:45:13.147907300Z"
    }
   },
   "id": "78f7debc8e36da7"
  },
  {
   "cell_type": "code",
   "execution_count": 85,
   "outputs": [
    {
     "data": {
      "text/plain": "     Monat  Jahr    Fabrik Produkttyp Produzierte Einheiten Arbeitskosten  \\\n0        1  2020  Fabrik 1          3                  1722         33966   \n1        1  2020  Fabrik 2          4                  1512         19893   \n2        1  2021  Fabrik 1          4                  1507         32360   \n3        1  2021  Fabrik 2          3                  1229         16026   \n4        1  2022  Fabrik 1          5                  3066         65574   \n..     ...   ...       ...        ...                   ...           ...   \n692     12  2020  Fabrik 2         40                   228          4368   \n693     12  2021  Fabrik 1         10                    69          2346   \n694     12  2021  Fabrik 2         40                   196          3702   \n695     12  2022  Fabrik 1         20                   118          3031   \n696     12  2022  Fabrik 2         30                   210          4250   \n\n    Materialkosten Sonstige Kosten  \n0             2953            6421  \n1             1792           12913  \n2             2355            7276  \n3             1730            6857  \n4             4187           16978  \n..             ...             ...  \n692           3392            3068  \n693           1104             690  \n694           3728            2504  \n695           2138            1504  \n696           2840            2656  \n\n[697 rows x 8 columns]",
      "text/html": "<div>\n<style scoped>\n    .dataframe tbody tr th:only-of-type {\n        vertical-align: middle;\n    }\n\n    .dataframe tbody tr th {\n        vertical-align: top;\n    }\n\n    .dataframe thead th {\n        text-align: right;\n    }\n</style>\n<table border=\"1\" class=\"dataframe\">\n  <thead>\n    <tr style=\"text-align: right;\">\n      <th></th>\n      <th>Monat</th>\n      <th>Jahr</th>\n      <th>Fabrik</th>\n      <th>Produkttyp</th>\n      <th>Produzierte Einheiten</th>\n      <th>Arbeitskosten</th>\n      <th>Materialkosten</th>\n      <th>Sonstige Kosten</th>\n    </tr>\n  </thead>\n  <tbody>\n    <tr>\n      <th>0</th>\n      <td>1</td>\n      <td>2020</td>\n      <td>Fabrik 1</td>\n      <td>3</td>\n      <td>1722</td>\n      <td>33966</td>\n      <td>2953</td>\n      <td>6421</td>\n    </tr>\n    <tr>\n      <th>1</th>\n      <td>1</td>\n      <td>2020</td>\n      <td>Fabrik 2</td>\n      <td>4</td>\n      <td>1512</td>\n      <td>19893</td>\n      <td>1792</td>\n      <td>12913</td>\n    </tr>\n    <tr>\n      <th>2</th>\n      <td>1</td>\n      <td>2021</td>\n      <td>Fabrik 1</td>\n      <td>4</td>\n      <td>1507</td>\n      <td>32360</td>\n      <td>2355</td>\n      <td>7276</td>\n    </tr>\n    <tr>\n      <th>3</th>\n      <td>1</td>\n      <td>2021</td>\n      <td>Fabrik 2</td>\n      <td>3</td>\n      <td>1229</td>\n      <td>16026</td>\n      <td>1730</td>\n      <td>6857</td>\n    </tr>\n    <tr>\n      <th>4</th>\n      <td>1</td>\n      <td>2022</td>\n      <td>Fabrik 1</td>\n      <td>5</td>\n      <td>3066</td>\n      <td>65574</td>\n      <td>4187</td>\n      <td>16978</td>\n    </tr>\n    <tr>\n      <th>...</th>\n      <td>...</td>\n      <td>...</td>\n      <td>...</td>\n      <td>...</td>\n      <td>...</td>\n      <td>...</td>\n      <td>...</td>\n      <td>...</td>\n    </tr>\n    <tr>\n      <th>692</th>\n      <td>12</td>\n      <td>2020</td>\n      <td>Fabrik 2</td>\n      <td>40</td>\n      <td>228</td>\n      <td>4368</td>\n      <td>3392</td>\n      <td>3068</td>\n    </tr>\n    <tr>\n      <th>693</th>\n      <td>12</td>\n      <td>2021</td>\n      <td>Fabrik 1</td>\n      <td>10</td>\n      <td>69</td>\n      <td>2346</td>\n      <td>1104</td>\n      <td>690</td>\n    </tr>\n    <tr>\n      <th>694</th>\n      <td>12</td>\n      <td>2021</td>\n      <td>Fabrik 2</td>\n      <td>40</td>\n      <td>196</td>\n      <td>3702</td>\n      <td>3728</td>\n      <td>2504</td>\n    </tr>\n    <tr>\n      <th>695</th>\n      <td>12</td>\n      <td>2022</td>\n      <td>Fabrik 1</td>\n      <td>20</td>\n      <td>118</td>\n      <td>3031</td>\n      <td>2138</td>\n      <td>1504</td>\n    </tr>\n    <tr>\n      <th>696</th>\n      <td>12</td>\n      <td>2022</td>\n      <td>Fabrik 2</td>\n      <td>30</td>\n      <td>210</td>\n      <td>4250</td>\n      <td>2840</td>\n      <td>2656</td>\n    </tr>\n  </tbody>\n</table>\n<p>697 rows × 8 columns</p>\n</div>"
     },
     "execution_count": 85,
     "metadata": {},
     "output_type": "execute_result"
    }
   ],
   "source": [
    "merged_df['Produktionsdatum'] = pd.to_datetime(merged_df['Produktionsdatum'])\n",
    "\n",
    "# Extrahieren von Monat und Jahr aus dem Datum\n",
    "merged_df['Monat'] = merged_df['Produktionsdatum'].dt.month\n",
    "merged_df['Jahr'] = merged_df['Produktionsdatum'].dt.year\n",
    "\n",
    "# Gruppieren nach Produkttyp, Monat und Jahr und die relevanten Spalten summiert\n",
    "summarized_df = merged_df.groupby(['Produkttyp', 'Monat', 'Jahr', 'Fabrik'], as_index=False)[['Produkttyp', 'Produzierte Einheiten', 'Arbeitskosten', 'Materialkosten', 'Sonstige Kosten']].sum()\n",
    "\n",
    "summarized_df"
   ],
   "metadata": {
    "collapsed": false,
    "ExecuteTime": {
     "end_time": "2023-08-28T08:37:18.892856100Z",
     "start_time": "2023-08-28T08:37:18.821510700Z"
    }
   },
   "id": "8be438314c4c0be8"
  },
  {
   "cell_type": "code",
   "execution_count": null,
   "outputs": [],
   "source": [],
   "metadata": {
    "collapsed": false
   },
   "id": "deb4df60c6972b09"
  },
  {
   "cell_type": "code",
   "execution_count": null,
   "outputs": [],
   "source": [],
   "metadata": {
    "collapsed": false
   },
   "id": "8f2217d54d93082d"
  }
 ],
 "metadata": {
  "kernelspec": {
   "display_name": "Python 3 (ipykernel)",
   "language": "python",
   "name": "python3"
  },
  "language_info": {
   "codemirror_mode": {
    "name": "ipython",
    "version": 3
   },
   "file_extension": ".py",
   "mimetype": "text/x-python",
   "name": "python",
   "nbconvert_exporter": "python",
   "pygments_lexer": "ipython3",
   "version": "3.11.3"
  }
 },
 "nbformat": 4,
 "nbformat_minor": 5
}
